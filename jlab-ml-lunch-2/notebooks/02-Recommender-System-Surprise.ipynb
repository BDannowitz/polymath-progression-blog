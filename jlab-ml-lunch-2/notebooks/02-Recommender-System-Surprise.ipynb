{
 "cells": [
  {
   "cell_type": "markdown",
   "metadata": {},
   "source": [
    "# 02 - Surprise Recommender System\n",
    "\n",
    "* Use a well-supported recommender package\n",
    "* Instead of homebrew matrix decomposition"
   ]
  },
  {
   "cell_type": "code",
   "execution_count": 99,
   "metadata": {},
   "outputs": [],
   "source": [
    "import pandas as pd\n",
    "from surprise import Dataset, Reader\n",
    "from surprise.model_selection import cross_validate\n",
    "from sklearn.preprocessing import MinMaxScaler, StandardScaler\n",
    "from jlab import load_test_data, get_test_detector_plane"
   ]
  },
  {
   "cell_type": "markdown",
   "metadata": {},
   "source": [
    "## Load up and prep the datasets\n",
    "\n",
    "* Surprise requires a User, Item, Rating system\n",
    "* \"Ratings\" also need to be on the same scale with the same min/max values\n",
    "* Use `melt` and `MinMaxScaler` to achieve these things\n",
    "* In the spirit of the movie ratings system that's popularly used with Surprise, let's set Min/Max to 1/5"
   ]
  },
  {
   "cell_type": "code",
   "execution_count": 2,
   "metadata": {},
   "outputs": [],
   "source": [
    "scaler = MinMaxScaler(feature_range=(1,5))"
   ]
  },
  {
   "cell_type": "code",
   "execution_count": 100,
   "metadata": {},
   "outputs": [],
   "source": [
    "scaler = StandardScaler()"
   ]
  },
  {
   "cell_type": "code",
   "execution_count": 101,
   "metadata": {},
   "outputs": [],
   "source": [
    "# Load, fit the scaler, transform\n",
    "X_train = pd.read_csv('MLchallenge2_training.csv')\n",
    "X_train_scaled_values = scaler.fit_transform(X_train)\n",
    "X_train_scaled = pd.DataFrame(X_train_scaled_values, columns=X_train.columns,\n",
    "                              index=X_train.index)\n",
    "\n",
    "# Load, transform\n",
    "X_test = load_test_data('test_in.csv')\n",
    "X_test_scaled_values = scaler.transform(X_test)\n",
    "X_test_scaled = pd.DataFrame(X_test_scaled_values, columns=X_test.columns,\n",
    "                             index=X_test.index)\n",
    "# While we're at it, get the detector plane that'll be used for evaluation\n",
    "eval_planes = get_test_detector_plane(X_test)\n",
    "\n",
    "# Combine datasets\n",
    "X = (pd.concat([X_test_scaled, X_train_scaled], axis=0)\n",
    "     .reset_index(drop=True))\n",
    "\n",
    "# Melt the dataframe into a user/item/rating format\n",
    "# For our purposes, it's trackID / kinematic / value\n",
    "X.index.name = \"track_id\"\n",
    "X_melt = X.reset_index().melt(id_vars=['track_id'])\n",
    "\n",
    "# Also, load our truth values\n",
    "X_true = pd.read_csv('test_prediction.csv', names=['x', 'y', 'px', 'py', 'pz'],\n",
    "                     header=None)"
   ]
  },
  {
   "cell_type": "code",
   "execution_count": 102,
   "metadata": {},
   "outputs": [
    {
     "data": {
      "text/html": [
       "<div>\n",
       "<style scoped>\n",
       "    .dataframe tbody tr th:only-of-type {\n",
       "        vertical-align: middle;\n",
       "    }\n",
       "\n",
       "    .dataframe tbody tr th {\n",
       "        vertical-align: top;\n",
       "    }\n",
       "\n",
       "    .dataframe thead th {\n",
       "        text-align: right;\n",
       "    }\n",
       "</style>\n",
       "<table border=\"1\" class=\"dataframe\">\n",
       "  <thead>\n",
       "    <tr style=\"text-align: right;\">\n",
       "      <th></th>\n",
       "      <th>x</th>\n",
       "      <th>y</th>\n",
       "      <th>z</th>\n",
       "      <th>px</th>\n",
       "      <th>py</th>\n",
       "      <th>pz</th>\n",
       "      <th>x1</th>\n",
       "      <th>y1</th>\n",
       "      <th>z1</th>\n",
       "      <th>px1</th>\n",
       "      <th>...</th>\n",
       "      <th>z23</th>\n",
       "      <th>px23</th>\n",
       "      <th>py23</th>\n",
       "      <th>pz23</th>\n",
       "      <th>x24</th>\n",
       "      <th>y24</th>\n",
       "      <th>z24</th>\n",
       "      <th>px24</th>\n",
       "      <th>py24</th>\n",
       "      <th>pz24</th>\n",
       "    </tr>\n",
       "    <tr>\n",
       "      <th>track_id</th>\n",
       "      <th></th>\n",
       "      <th></th>\n",
       "      <th></th>\n",
       "      <th></th>\n",
       "      <th></th>\n",
       "      <th></th>\n",
       "      <th></th>\n",
       "      <th></th>\n",
       "      <th></th>\n",
       "      <th></th>\n",
       "      <th></th>\n",
       "      <th></th>\n",
       "      <th></th>\n",
       "      <th></th>\n",
       "      <th></th>\n",
       "      <th></th>\n",
       "      <th></th>\n",
       "      <th></th>\n",
       "      <th></th>\n",
       "      <th></th>\n",
       "      <th></th>\n",
       "    </tr>\n",
       "  </thead>\n",
       "  <tbody>\n",
       "    <tr>\n",
       "      <th>0</th>\n",
       "      <td>0.074161</td>\n",
       "      <td>0.112144</td>\n",
       "      <td>0.0</td>\n",
       "      <td>-1.622264</td>\n",
       "      <td>-0.354469</td>\n",
       "      <td>0.498673</td>\n",
       "      <td>-0.762725</td>\n",
       "      <td>0.024993</td>\n",
       "      <td>-0.173963</td>\n",
       "      <td>-1.690999</td>\n",
       "      <td>...</td>\n",
       "      <td>NaN</td>\n",
       "      <td>NaN</td>\n",
       "      <td>NaN</td>\n",
       "      <td>NaN</td>\n",
       "      <td>NaN</td>\n",
       "      <td>NaN</td>\n",
       "      <td>NaN</td>\n",
       "      <td>NaN</td>\n",
       "      <td>NaN</td>\n",
       "      <td>NaN</td>\n",
       "    </tr>\n",
       "    <tr>\n",
       "      <th>1</th>\n",
       "      <td>0.066620</td>\n",
       "      <td>-0.202530</td>\n",
       "      <td>0.0</td>\n",
       "      <td>0.684269</td>\n",
       "      <td>2.861297</td>\n",
       "      <td>0.705761</td>\n",
       "      <td>0.526532</td>\n",
       "      <td>1.105833</td>\n",
       "      <td>-0.173963</td>\n",
       "      <td>1.369923</td>\n",
       "      <td>...</td>\n",
       "      <td>NaN</td>\n",
       "      <td>NaN</td>\n",
       "      <td>NaN</td>\n",
       "      <td>NaN</td>\n",
       "      <td>NaN</td>\n",
       "      <td>NaN</td>\n",
       "      <td>NaN</td>\n",
       "      <td>NaN</td>\n",
       "      <td>NaN</td>\n",
       "      <td>NaN</td>\n",
       "    </tr>\n",
       "    <tr>\n",
       "      <th>2</th>\n",
       "      <td>-1.086878</td>\n",
       "      <td>-2.191303</td>\n",
       "      <td>0.0</td>\n",
       "      <td>0.425034</td>\n",
       "      <td>-0.142295</td>\n",
       "      <td>-1.191579</td>\n",
       "      <td>-0.542333</td>\n",
       "      <td>-2.184630</td>\n",
       "      <td>-0.173963</td>\n",
       "      <td>0.178825</td>\n",
       "      <td>...</td>\n",
       "      <td>NaN</td>\n",
       "      <td>NaN</td>\n",
       "      <td>NaN</td>\n",
       "      <td>NaN</td>\n",
       "      <td>NaN</td>\n",
       "      <td>NaN</td>\n",
       "      <td>NaN</td>\n",
       "      <td>NaN</td>\n",
       "      <td>NaN</td>\n",
       "      <td>NaN</td>\n",
       "    </tr>\n",
       "    <tr>\n",
       "      <th>3</th>\n",
       "      <td>1.530702</td>\n",
       "      <td>0.234789</td>\n",
       "      <td>0.0</td>\n",
       "      <td>-0.126673</td>\n",
       "      <td>0.454445</td>\n",
       "      <td>-0.173494</td>\n",
       "      <td>1.289792</td>\n",
       "      <td>0.485696</td>\n",
       "      <td>-0.173963</td>\n",
       "      <td>0.085667</td>\n",
       "      <td>...</td>\n",
       "      <td>NaN</td>\n",
       "      <td>NaN</td>\n",
       "      <td>NaN</td>\n",
       "      <td>NaN</td>\n",
       "      <td>NaN</td>\n",
       "      <td>NaN</td>\n",
       "      <td>NaN</td>\n",
       "      <td>NaN</td>\n",
       "      <td>NaN</td>\n",
       "      <td>NaN</td>\n",
       "    </tr>\n",
       "    <tr>\n",
       "      <th>4</th>\n",
       "      <td>1.290224</td>\n",
       "      <td>-1.584697</td>\n",
       "      <td>0.0</td>\n",
       "      <td>-0.066850</td>\n",
       "      <td>-0.075990</td>\n",
       "      <td>0.443141</td>\n",
       "      <td>1.077120</td>\n",
       "      <td>-1.405488</td>\n",
       "      <td>-0.173963</td>\n",
       "      <td>-0.093996</td>\n",
       "      <td>...</td>\n",
       "      <td>0.146014</td>\n",
       "      <td>-0.09545</td>\n",
       "      <td>-0.01542</td>\n",
       "      <td>0.440823</td>\n",
       "      <td>NaN</td>\n",
       "      <td>NaN</td>\n",
       "      <td>0.101972</td>\n",
       "      <td>NaN</td>\n",
       "      <td>NaN</td>\n",
       "      <td>NaN</td>\n",
       "    </tr>\n",
       "  </tbody>\n",
       "</table>\n",
       "<p>5 rows × 150 columns</p>\n",
       "</div>"
      ],
      "text/plain": [
       "                 x         y    z        px        py        pz        x1  \\\n",
       "track_id                                                                    \n",
       "0         0.074161  0.112144  0.0 -1.622264 -0.354469  0.498673 -0.762725   \n",
       "1         0.066620 -0.202530  0.0  0.684269  2.861297  0.705761  0.526532   \n",
       "2        -1.086878 -2.191303  0.0  0.425034 -0.142295 -1.191579 -0.542333   \n",
       "3         1.530702  0.234789  0.0 -0.126673  0.454445 -0.173494  1.289792   \n",
       "4         1.290224 -1.584697  0.0 -0.066850 -0.075990  0.443141  1.077120   \n",
       "\n",
       "                y1        z1       px1  ...       z23     px23     py23  \\\n",
       "track_id                                ...                               \n",
       "0         0.024993 -0.173963 -1.690999  ...       NaN      NaN      NaN   \n",
       "1         1.105833 -0.173963  1.369923  ...       NaN      NaN      NaN   \n",
       "2        -2.184630 -0.173963  0.178825  ...       NaN      NaN      NaN   \n",
       "3         0.485696 -0.173963  0.085667  ...       NaN      NaN      NaN   \n",
       "4        -1.405488 -0.173963 -0.093996  ...  0.146014 -0.09545 -0.01542   \n",
       "\n",
       "              pz23  x24  y24       z24  px24  py24  pz24  \n",
       "track_id                                                  \n",
       "0              NaN  NaN  NaN       NaN   NaN   NaN   NaN  \n",
       "1              NaN  NaN  NaN       NaN   NaN   NaN   NaN  \n",
       "2              NaN  NaN  NaN       NaN   NaN   NaN   NaN  \n",
       "3              NaN  NaN  NaN       NaN   NaN   NaN   NaN  \n",
       "4         0.440823  NaN  NaN  0.101972   NaN   NaN   NaN  \n",
       "\n",
       "[5 rows x 150 columns]"
      ]
     },
     "execution_count": 102,
     "metadata": {},
     "output_type": "execute_result"
    }
   ],
   "source": [
    "X.head()"
   ]
  },
  {
   "cell_type": "code",
   "execution_count": 103,
   "metadata": {},
   "outputs": [
    {
     "data": {
      "text/html": [
       "<div>\n",
       "<style scoped>\n",
       "    .dataframe tbody tr th:only-of-type {\n",
       "        vertical-align: middle;\n",
       "    }\n",
       "\n",
       "    .dataframe tbody tr th {\n",
       "        vertical-align: top;\n",
       "    }\n",
       "\n",
       "    .dataframe thead th {\n",
       "        text-align: right;\n",
       "    }\n",
       "</style>\n",
       "<table border=\"1\" class=\"dataframe\">\n",
       "  <thead>\n",
       "    <tr style=\"text-align: right;\">\n",
       "      <th></th>\n",
       "      <th>track_id</th>\n",
       "      <th>variable</th>\n",
       "      <th>value</th>\n",
       "    </tr>\n",
       "  </thead>\n",
       "  <tbody>\n",
       "    <tr>\n",
       "      <th>16769675</th>\n",
       "      <td>196994</td>\n",
       "      <td>px13</td>\n",
       "      <td>-0.313329</td>\n",
       "    </tr>\n",
       "    <tr>\n",
       "      <th>9507386</th>\n",
       "      <td>95740</td>\n",
       "      <td>py7</td>\n",
       "      <td>0.581009</td>\n",
       "    </tr>\n",
       "    <tr>\n",
       "      <th>13002815</th>\n",
       "      <td>112952</td>\n",
       "      <td>px10</td>\n",
       "      <td>1.071682</td>\n",
       "    </tr>\n",
       "    <tr>\n",
       "      <th>10043455</th>\n",
       "      <td>18006</td>\n",
       "      <td>y8</td>\n",
       "      <td>-1.700605</td>\n",
       "    </tr>\n",
       "    <tr>\n",
       "      <th>15673042</th>\n",
       "      <td>123366</td>\n",
       "      <td>py12</td>\n",
       "      <td>0.374578</td>\n",
       "    </tr>\n",
       "    <tr>\n",
       "      <th>29700965</th>\n",
       "      <td>33820</td>\n",
       "      <td>y24</td>\n",
       "      <td>-2.396870</td>\n",
       "    </tr>\n",
       "    <tr>\n",
       "      <th>14251962</th>\n",
       "      <td>134493</td>\n",
       "      <td>px11</td>\n",
       "      <td>0.096533</td>\n",
       "    </tr>\n",
       "    <tr>\n",
       "      <th>1672225</th>\n",
       "      <td>35417</td>\n",
       "      <td>z1</td>\n",
       "      <td>-0.173963</td>\n",
       "    </tr>\n",
       "    <tr>\n",
       "      <th>21452218</th>\n",
       "      <td>173714</td>\n",
       "      <td>z17</td>\n",
       "      <td>0.018756</td>\n",
       "    </tr>\n",
       "    <tr>\n",
       "      <th>23136029</th>\n",
       "      <td>16116</td>\n",
       "      <td>pz18</td>\n",
       "      <td>1.313962</td>\n",
       "    </tr>\n",
       "  </tbody>\n",
       "</table>\n",
       "</div>"
      ],
      "text/plain": [
       "          track_id variable     value\n",
       "16769675    196994     px13 -0.313329\n",
       "9507386      95740      py7  0.581009\n",
       "13002815    112952     px10  1.071682\n",
       "10043455     18006       y8 -1.700605\n",
       "15673042    123366     py12  0.374578\n",
       "29700965     33820      y24 -2.396870\n",
       "14251962    134493     px11  0.096533\n",
       "1672225      35417       z1 -0.173963\n",
       "21452218    173714      z17  0.018756\n",
       "23136029     16116     pz18  1.313962"
      ]
     },
     "execution_count": 103,
     "metadata": {},
     "output_type": "execute_result"
    }
   ],
   "source": [
    "X_melt.sample(10)"
   ]
  },
  {
   "cell_type": "code",
   "execution_count": 105,
   "metadata": {},
   "outputs": [
    {
     "data": {
      "text/html": [
       "<div>\n",
       "<style scoped>\n",
       "    .dataframe tbody tr th:only-of-type {\n",
       "        vertical-align: middle;\n",
       "    }\n",
       "\n",
       "    .dataframe tbody tr th {\n",
       "        vertical-align: top;\n",
       "    }\n",
       "\n",
       "    .dataframe thead th {\n",
       "        text-align: right;\n",
       "    }\n",
       "</style>\n",
       "<table border=\"1\" class=\"dataframe\">\n",
       "  <thead>\n",
       "    <tr style=\"text-align: right;\">\n",
       "      <th></th>\n",
       "      <th>x</th>\n",
       "      <th>y</th>\n",
       "      <th>px</th>\n",
       "      <th>py</th>\n",
       "      <th>pz</th>\n",
       "    </tr>\n",
       "  </thead>\n",
       "  <tbody>\n",
       "    <tr>\n",
       "      <th>0</th>\n",
       "      <td>-23.123945</td>\n",
       "      <td>3.142886</td>\n",
       "      <td>-0.235592</td>\n",
       "      <td>0.091612</td>\n",
       "      <td>2.413377</td>\n",
       "    </tr>\n",
       "    <tr>\n",
       "      <th>1</th>\n",
       "      <td>19.633486</td>\n",
       "      <td>32.319292</td>\n",
       "      <td>0.314376</td>\n",
       "      <td>0.316425</td>\n",
       "      <td>2.592952</td>\n",
       "    </tr>\n",
       "    <tr>\n",
       "      <th>2</th>\n",
       "      <td>-8.308506</td>\n",
       "      <td>-39.299613</td>\n",
       "      <td>-0.020097</td>\n",
       "      <td>-0.051232</td>\n",
       "      <td>0.948906</td>\n",
       "    </tr>\n",
       "    <tr>\n",
       "      <th>3</th>\n",
       "      <td>19.918838</td>\n",
       "      <td>10.664617</td>\n",
       "      <td>0.038102</td>\n",
       "      <td>0.047740</td>\n",
       "      <td>1.864014</td>\n",
       "    </tr>\n",
       "    <tr>\n",
       "      <th>4</th>\n",
       "      <td>13.649239</td>\n",
       "      <td>-20.616935</td>\n",
       "      <td>-0.015548</td>\n",
       "      <td>0.001471</td>\n",
       "      <td>2.323953</td>\n",
       "    </tr>\n",
       "  </tbody>\n",
       "</table>\n",
       "</div>"
      ],
      "text/plain": [
       "           x          y        px        py        pz\n",
       "0 -23.123945   3.142886 -0.235592  0.091612  2.413377\n",
       "1  19.633486  32.319292  0.314376  0.316425  2.592952\n",
       "2  -8.308506 -39.299613 -0.020097 -0.051232  0.948906\n",
       "3  19.918838  10.664617  0.038102  0.047740  1.864014\n",
       "4  13.649239 -20.616935 -0.015548  0.001471  2.323953"
      ]
     },
     "execution_count": 105,
     "metadata": {},
     "output_type": "execute_result"
    }
   ],
   "source": [
    "X_true.head()"
   ]
  },
  {
   "cell_type": "code",
   "execution_count": 109,
   "metadata": {},
   "outputs": [],
   "source": [
    "MIN = X.min().min()"
   ]
  },
  {
   "cell_type": "code",
   "execution_count": 110,
   "metadata": {},
   "outputs": [],
   "source": [
    "MAX = X.max().max()"
   ]
  },
  {
   "cell_type": "markdown",
   "metadata": {},
   "source": [
    "## Train some Surprise predictors"
   ]
  },
  {
   "cell_type": "code",
   "execution_count": 111,
   "metadata": {},
   "outputs": [],
   "source": [
    "from surprise import (\n",
    "    SVD, SVDpp, SlopeOne, NMF, CoClustering, \n",
    "    KNNBasic, KNNWithMeans, KNNWithZScore,\n",
    "    NormalPredictor, BaselineOnly\n",
    ")"
   ]
  },
  {
   "cell_type": "markdown",
   "metadata": {},
   "source": [
    "### Simple workflow\n",
    "\n",
    "* Train with just 1k full tracks\n",
    "* Train set (with all detectors) starts after track_id 10000"
   ]
  },
  {
   "cell_type": "code",
   "execution_count": 112,
   "metadata": {},
   "outputs": [],
   "source": [
    "# A reader is still needed but only the rating_scale param is requiered.\n",
    "reader = Reader(rating_scale=(MIN, MAX))\n",
    "\n",
    "# The columns must correspond to user id, item id and ratings (in that order).\n",
    "data = Dataset.load_from_df(X_melt[['track_id', 'variable', 'value']]\n",
    "                            .query('track_id >= 10000 and track_id < 11000'),\n",
    "                            reader)"
   ]
  },
  {
   "cell_type": "code",
   "execution_count": 113,
   "metadata": {},
   "outputs": [
    {
     "name": "stdout",
     "output_type": "stream",
     "text": [
      "Evaluating RMSE, MAE of algorithm SVD on 3 split(s).\n",
      "\n",
      "                  Fold 1  Fold 2  Fold 3  Mean    Std     \n",
      "RMSE (testset)    0.2397  0.2667  0.2341  0.2468  0.0142  \n",
      "MAE (testset)     0.1124  0.1067  0.1121  0.1104  0.0026  \n",
      "Fit time          6.12    6.09    6.11    6.11    0.01    \n",
      "Test time         6.07    0.54    0.31    2.31    2.66    \n"
     ]
    },
    {
     "data": {
      "text/plain": [
       "{'test_rmse': array([0.23972101, 0.2666763 , 0.23408972]),\n",
       " 'test_mae': array([0.11241622, 0.1066782 , 0.1121256 ]),\n",
       " 'fit_time': (6.117186069488525, 6.09119176864624, 6.1097939014434814),\n",
       " 'test_time': (6.071123123168945, 0.5360040664672852, 0.3131752014160156)}"
      ]
     },
     "execution_count": 113,
     "metadata": {},
     "output_type": "execute_result"
    }
   ],
   "source": [
    "algo = SVD()\n",
    "cross_validate(algo, data, measures=['RMSE', 'MAE'], cv=3, verbose=True)"
   ]
  },
  {
   "cell_type": "markdown",
   "metadata": {},
   "source": [
    "### Give them all a shot\n",
    "\n",
    "* See which ones to pursue"
   ]
  },
  {
   "cell_type": "code",
   "execution_count": 114,
   "metadata": {},
   "outputs": [
    {
     "name": "stdout",
     "output_type": "stream",
     "text": [
      "SVD\n",
      "Evaluating RMSE, MAE of algorithm SVD on 3 split(s).\n",
      "\n",
      "                  Fold 1  Fold 2  Fold 3  Mean    Std     \n",
      "RMSE (testset)    0.2289  0.2759  0.2260  0.2436  0.0229  \n",
      "MAE (testset)     0.1130  0.1091  0.1083  0.1102  0.0021  \n",
      "Fit time          6.20    6.00    5.95    6.05    0.11    \n",
      "Test time         0.50    0.47    0.49    0.49    0.01    \n",
      "{'test_rmse': array([0.22891096, 0.2759472 , 0.22598352]), 'test_mae': array([0.11304235, 0.10914811, 0.10827262]), 'fit_time': (6.203150033950806, 5.996194839477539, 5.954233169555664), 'test_time': (0.49585604667663574, 0.47057509422302246, 0.4896547794342041)}\n",
      "SVDpp\n",
      "Evaluating RMSE, MAE of algorithm SVDpp on 3 split(s).\n",
      "\n",
      "                  Fold 1  Fold 2  Fold 3  Mean    Std     \n",
      "RMSE (testset)    0.2503  0.2606  0.3129  0.2746  0.0274  \n",
      "MAE (testset)     0.1541  0.1676  0.1684  0.1634  0.0066  \n",
      "Fit time          134.15  133.91  133.54  133.86  0.25    \n",
      "Test time         6.18    6.39    6.36    6.31    0.09    \n",
      "{'test_rmse': array([0.25026616, 0.26060685, 0.31291403]), 'test_mae': array([0.15407927, 0.16755922, 0.16842247]), 'fit_time': (134.14813780784607, 133.90549397468567, 133.53579807281494), 'test_time': (6.184978723526001, 6.390493869781494, 6.357921123504639)}\n",
      "SlopeOne\n",
      "Evaluating RMSE, MAE of algorithm SlopeOne on 3 split(s).\n",
      "\n",
      "                  Fold 1  Fold 2  Fold 3  Mean    Std     \n",
      "RMSE (testset)    0.9088  0.8928  0.8996  0.9004  0.0066  \n",
      "MAE (testset)     0.6598  0.6610  0.6626  0.6612  0.0011  \n",
      "Fit time          0.45    0.41    0.43    0.43    0.02    \n",
      "Test time         5.02    4.96    5.01    5.00    0.03    \n",
      "{'test_rmse': array([0.90875587, 0.89276161, 0.89959105]), 'test_mae': array([0.65984765, 0.66103708, 0.66262992]), 'fit_time': (0.4522852897644043, 0.4134690761566162, 0.43015003204345703), 'test_time': (5.022490978240967, 4.957015752792358, 5.010500907897949)}\n",
      "NMF\n"
     ]
    },
    {
     "ename": "ZeroDivisionError",
     "evalue": "float division",
     "output_type": "error",
     "traceback": [
      "\u001b[0;31m---------------------------------------------------------------------------\u001b[0m",
      "\u001b[0;31mZeroDivisionError\u001b[0m                         Traceback (most recent call last)",
      "\u001b[0;32m<ipython-input-114-fae06b225fb7>\u001b[0m in \u001b[0;36m<module>\u001b[0;34m\u001b[0m\n\u001b[1;32m     10\u001b[0m \u001b[0;32mfor\u001b[0m \u001b[0malgo\u001b[0m \u001b[0;32min\u001b[0m \u001b[0malgo_dict\u001b[0m\u001b[0;34m:\u001b[0m\u001b[0;34m\u001b[0m\u001b[0;34m\u001b[0m\u001b[0m\n\u001b[1;32m     11\u001b[0m     \u001b[0mprint\u001b[0m\u001b[0;34m(\u001b[0m\u001b[0malgo\u001b[0m\u001b[0;34m)\u001b[0m\u001b[0;34m\u001b[0m\u001b[0;34m\u001b[0m\u001b[0m\n\u001b[0;32m---> 12\u001b[0;31m     \u001b[0mprint\u001b[0m\u001b[0;34m(\u001b[0m\u001b[0mcross_validate\u001b[0m\u001b[0;34m(\u001b[0m\u001b[0malgo_dict\u001b[0m\u001b[0;34m[\u001b[0m\u001b[0malgo\u001b[0m\u001b[0;34m]\u001b[0m\u001b[0;34m,\u001b[0m \u001b[0mdata\u001b[0m\u001b[0;34m,\u001b[0m \u001b[0mmeasures\u001b[0m\u001b[0;34m=\u001b[0m\u001b[0;34m[\u001b[0m\u001b[0;34m'RMSE'\u001b[0m\u001b[0;34m,\u001b[0m \u001b[0;34m'MAE'\u001b[0m\u001b[0;34m]\u001b[0m\u001b[0;34m,\u001b[0m \u001b[0mcv\u001b[0m\u001b[0;34m=\u001b[0m\u001b[0;36m3\u001b[0m\u001b[0;34m,\u001b[0m \u001b[0mverbose\u001b[0m\u001b[0;34m=\u001b[0m\u001b[0;32mTrue\u001b[0m\u001b[0;34m)\u001b[0m\u001b[0;34m)\u001b[0m\u001b[0;34m\u001b[0m\u001b[0;34m\u001b[0m\u001b[0m\n\u001b[0m",
      "\u001b[0;32m//anaconda3/lib/python3.7/site-packages/surprise/model_selection/validation.py\u001b[0m in \u001b[0;36mcross_validate\u001b[0;34m(algo, data, measures, cv, return_train_measures, n_jobs, pre_dispatch, verbose)\u001b[0m\n\u001b[1;32m     99\u001b[0m                                            return_train_measures)\n\u001b[1;32m    100\u001b[0m                     for (trainset, testset) in cv.split(data))\n\u001b[0;32m--> 101\u001b[0;31m     \u001b[0mout\u001b[0m \u001b[0;34m=\u001b[0m \u001b[0mParallel\u001b[0m\u001b[0;34m(\u001b[0m\u001b[0mn_jobs\u001b[0m\u001b[0;34m=\u001b[0m\u001b[0mn_jobs\u001b[0m\u001b[0;34m,\u001b[0m \u001b[0mpre_dispatch\u001b[0m\u001b[0;34m=\u001b[0m\u001b[0mpre_dispatch\u001b[0m\u001b[0;34m)\u001b[0m\u001b[0;34m(\u001b[0m\u001b[0mdelayed_list\u001b[0m\u001b[0;34m)\u001b[0m\u001b[0;34m\u001b[0m\u001b[0;34m\u001b[0m\u001b[0m\n\u001b[0m\u001b[1;32m    102\u001b[0m \u001b[0;34m\u001b[0m\u001b[0m\n\u001b[1;32m    103\u001b[0m     (test_measures_dicts,\n",
      "\u001b[0;32m//anaconda3/lib/python3.7/site-packages/joblib/parallel.py\u001b[0m in \u001b[0;36m__call__\u001b[0;34m(self, iterable)\u001b[0m\n\u001b[1;32m    919\u001b[0m             \u001b[0;31m# remaining jobs.\u001b[0m\u001b[0;34m\u001b[0m\u001b[0;34m\u001b[0m\u001b[0;34m\u001b[0m\u001b[0m\n\u001b[1;32m    920\u001b[0m             \u001b[0mself\u001b[0m\u001b[0;34m.\u001b[0m\u001b[0m_iterating\u001b[0m \u001b[0;34m=\u001b[0m \u001b[0;32mFalse\u001b[0m\u001b[0;34m\u001b[0m\u001b[0;34m\u001b[0m\u001b[0m\n\u001b[0;32m--> 921\u001b[0;31m             \u001b[0;32mif\u001b[0m \u001b[0mself\u001b[0m\u001b[0;34m.\u001b[0m\u001b[0mdispatch_one_batch\u001b[0m\u001b[0;34m(\u001b[0m\u001b[0miterator\u001b[0m\u001b[0;34m)\u001b[0m\u001b[0;34m:\u001b[0m\u001b[0;34m\u001b[0m\u001b[0;34m\u001b[0m\u001b[0m\n\u001b[0m\u001b[1;32m    922\u001b[0m                 \u001b[0mself\u001b[0m\u001b[0;34m.\u001b[0m\u001b[0m_iterating\u001b[0m \u001b[0;34m=\u001b[0m \u001b[0mself\u001b[0m\u001b[0;34m.\u001b[0m\u001b[0m_original_iterator\u001b[0m \u001b[0;32mis\u001b[0m \u001b[0;32mnot\u001b[0m \u001b[0;32mNone\u001b[0m\u001b[0;34m\u001b[0m\u001b[0;34m\u001b[0m\u001b[0m\n\u001b[1;32m    923\u001b[0m \u001b[0;34m\u001b[0m\u001b[0m\n",
      "\u001b[0;32m//anaconda3/lib/python3.7/site-packages/joblib/parallel.py\u001b[0m in \u001b[0;36mdispatch_one_batch\u001b[0;34m(self, iterator)\u001b[0m\n\u001b[1;32m    757\u001b[0m                 \u001b[0;32mreturn\u001b[0m \u001b[0;32mFalse\u001b[0m\u001b[0;34m\u001b[0m\u001b[0;34m\u001b[0m\u001b[0m\n\u001b[1;32m    758\u001b[0m             \u001b[0;32melse\u001b[0m\u001b[0;34m:\u001b[0m\u001b[0;34m\u001b[0m\u001b[0;34m\u001b[0m\u001b[0m\n\u001b[0;32m--> 759\u001b[0;31m                 \u001b[0mself\u001b[0m\u001b[0;34m.\u001b[0m\u001b[0m_dispatch\u001b[0m\u001b[0;34m(\u001b[0m\u001b[0mtasks\u001b[0m\u001b[0;34m)\u001b[0m\u001b[0;34m\u001b[0m\u001b[0;34m\u001b[0m\u001b[0m\n\u001b[0m\u001b[1;32m    760\u001b[0m                 \u001b[0;32mreturn\u001b[0m \u001b[0;32mTrue\u001b[0m\u001b[0;34m\u001b[0m\u001b[0;34m\u001b[0m\u001b[0m\n\u001b[1;32m    761\u001b[0m \u001b[0;34m\u001b[0m\u001b[0m\n",
      "\u001b[0;32m//anaconda3/lib/python3.7/site-packages/joblib/parallel.py\u001b[0m in \u001b[0;36m_dispatch\u001b[0;34m(self, batch)\u001b[0m\n\u001b[1;32m    714\u001b[0m         \u001b[0;32mwith\u001b[0m \u001b[0mself\u001b[0m\u001b[0;34m.\u001b[0m\u001b[0m_lock\u001b[0m\u001b[0;34m:\u001b[0m\u001b[0;34m\u001b[0m\u001b[0;34m\u001b[0m\u001b[0m\n\u001b[1;32m    715\u001b[0m             \u001b[0mjob_idx\u001b[0m \u001b[0;34m=\u001b[0m \u001b[0mlen\u001b[0m\u001b[0;34m(\u001b[0m\u001b[0mself\u001b[0m\u001b[0;34m.\u001b[0m\u001b[0m_jobs\u001b[0m\u001b[0;34m)\u001b[0m\u001b[0;34m\u001b[0m\u001b[0;34m\u001b[0m\u001b[0m\n\u001b[0;32m--> 716\u001b[0;31m             \u001b[0mjob\u001b[0m \u001b[0;34m=\u001b[0m \u001b[0mself\u001b[0m\u001b[0;34m.\u001b[0m\u001b[0m_backend\u001b[0m\u001b[0;34m.\u001b[0m\u001b[0mapply_async\u001b[0m\u001b[0;34m(\u001b[0m\u001b[0mbatch\u001b[0m\u001b[0;34m,\u001b[0m \u001b[0mcallback\u001b[0m\u001b[0;34m=\u001b[0m\u001b[0mcb\u001b[0m\u001b[0;34m)\u001b[0m\u001b[0;34m\u001b[0m\u001b[0;34m\u001b[0m\u001b[0m\n\u001b[0m\u001b[1;32m    717\u001b[0m             \u001b[0;31m# A job can complete so quickly than its callback is\u001b[0m\u001b[0;34m\u001b[0m\u001b[0;34m\u001b[0m\u001b[0;34m\u001b[0m\u001b[0m\n\u001b[1;32m    718\u001b[0m             \u001b[0;31m# called before we get here, causing self._jobs to\u001b[0m\u001b[0;34m\u001b[0m\u001b[0;34m\u001b[0m\u001b[0;34m\u001b[0m\u001b[0m\n",
      "\u001b[0;32m//anaconda3/lib/python3.7/site-packages/joblib/_parallel_backends.py\u001b[0m in \u001b[0;36mapply_async\u001b[0;34m(self, func, callback)\u001b[0m\n\u001b[1;32m    180\u001b[0m     \u001b[0;32mdef\u001b[0m \u001b[0mapply_async\u001b[0m\u001b[0;34m(\u001b[0m\u001b[0mself\u001b[0m\u001b[0;34m,\u001b[0m \u001b[0mfunc\u001b[0m\u001b[0;34m,\u001b[0m \u001b[0mcallback\u001b[0m\u001b[0;34m=\u001b[0m\u001b[0;32mNone\u001b[0m\u001b[0;34m)\u001b[0m\u001b[0;34m:\u001b[0m\u001b[0;34m\u001b[0m\u001b[0;34m\u001b[0m\u001b[0m\n\u001b[1;32m    181\u001b[0m         \u001b[0;34m\"\"\"Schedule a func to be run\"\"\"\u001b[0m\u001b[0;34m\u001b[0m\u001b[0;34m\u001b[0m\u001b[0m\n\u001b[0;32m--> 182\u001b[0;31m         \u001b[0mresult\u001b[0m \u001b[0;34m=\u001b[0m \u001b[0mImmediateResult\u001b[0m\u001b[0;34m(\u001b[0m\u001b[0mfunc\u001b[0m\u001b[0;34m)\u001b[0m\u001b[0;34m\u001b[0m\u001b[0;34m\u001b[0m\u001b[0m\n\u001b[0m\u001b[1;32m    183\u001b[0m         \u001b[0;32mif\u001b[0m \u001b[0mcallback\u001b[0m\u001b[0;34m:\u001b[0m\u001b[0;34m\u001b[0m\u001b[0;34m\u001b[0m\u001b[0m\n\u001b[1;32m    184\u001b[0m             \u001b[0mcallback\u001b[0m\u001b[0;34m(\u001b[0m\u001b[0mresult\u001b[0m\u001b[0;34m)\u001b[0m\u001b[0;34m\u001b[0m\u001b[0;34m\u001b[0m\u001b[0m\n",
      "\u001b[0;32m//anaconda3/lib/python3.7/site-packages/joblib/_parallel_backends.py\u001b[0m in \u001b[0;36m__init__\u001b[0;34m(self, batch)\u001b[0m\n\u001b[1;32m    547\u001b[0m         \u001b[0;31m# Don't delay the application, to avoid keeping the input\u001b[0m\u001b[0;34m\u001b[0m\u001b[0;34m\u001b[0m\u001b[0;34m\u001b[0m\u001b[0m\n\u001b[1;32m    548\u001b[0m         \u001b[0;31m# arguments in memory\u001b[0m\u001b[0;34m\u001b[0m\u001b[0;34m\u001b[0m\u001b[0;34m\u001b[0m\u001b[0m\n\u001b[0;32m--> 549\u001b[0;31m         \u001b[0mself\u001b[0m\u001b[0;34m.\u001b[0m\u001b[0mresults\u001b[0m \u001b[0;34m=\u001b[0m \u001b[0mbatch\u001b[0m\u001b[0;34m(\u001b[0m\u001b[0;34m)\u001b[0m\u001b[0;34m\u001b[0m\u001b[0;34m\u001b[0m\u001b[0m\n\u001b[0m\u001b[1;32m    550\u001b[0m \u001b[0;34m\u001b[0m\u001b[0m\n\u001b[1;32m    551\u001b[0m     \u001b[0;32mdef\u001b[0m \u001b[0mget\u001b[0m\u001b[0;34m(\u001b[0m\u001b[0mself\u001b[0m\u001b[0;34m)\u001b[0m\u001b[0;34m:\u001b[0m\u001b[0;34m\u001b[0m\u001b[0;34m\u001b[0m\u001b[0m\n",
      "\u001b[0;32m//anaconda3/lib/python3.7/site-packages/joblib/parallel.py\u001b[0m in \u001b[0;36m__call__\u001b[0;34m(self)\u001b[0m\n\u001b[1;32m    223\u001b[0m         \u001b[0;32mwith\u001b[0m \u001b[0mparallel_backend\u001b[0m\u001b[0;34m(\u001b[0m\u001b[0mself\u001b[0m\u001b[0;34m.\u001b[0m\u001b[0m_backend\u001b[0m\u001b[0;34m,\u001b[0m \u001b[0mn_jobs\u001b[0m\u001b[0;34m=\u001b[0m\u001b[0mself\u001b[0m\u001b[0;34m.\u001b[0m\u001b[0m_n_jobs\u001b[0m\u001b[0;34m)\u001b[0m\u001b[0;34m:\u001b[0m\u001b[0;34m\u001b[0m\u001b[0;34m\u001b[0m\u001b[0m\n\u001b[1;32m    224\u001b[0m             return [func(*args, **kwargs)\n\u001b[0;32m--> 225\u001b[0;31m                     for func, args, kwargs in self.items]\n\u001b[0m\u001b[1;32m    226\u001b[0m \u001b[0;34m\u001b[0m\u001b[0m\n\u001b[1;32m    227\u001b[0m     \u001b[0;32mdef\u001b[0m \u001b[0m__len__\u001b[0m\u001b[0;34m(\u001b[0m\u001b[0mself\u001b[0m\u001b[0;34m)\u001b[0m\u001b[0;34m:\u001b[0m\u001b[0;34m\u001b[0m\u001b[0;34m\u001b[0m\u001b[0m\n",
      "\u001b[0;32m//anaconda3/lib/python3.7/site-packages/joblib/parallel.py\u001b[0m in \u001b[0;36m<listcomp>\u001b[0;34m(.0)\u001b[0m\n\u001b[1;32m    223\u001b[0m         \u001b[0;32mwith\u001b[0m \u001b[0mparallel_backend\u001b[0m\u001b[0;34m(\u001b[0m\u001b[0mself\u001b[0m\u001b[0;34m.\u001b[0m\u001b[0m_backend\u001b[0m\u001b[0;34m,\u001b[0m \u001b[0mn_jobs\u001b[0m\u001b[0;34m=\u001b[0m\u001b[0mself\u001b[0m\u001b[0;34m.\u001b[0m\u001b[0m_n_jobs\u001b[0m\u001b[0;34m)\u001b[0m\u001b[0;34m:\u001b[0m\u001b[0;34m\u001b[0m\u001b[0;34m\u001b[0m\u001b[0m\n\u001b[1;32m    224\u001b[0m             return [func(*args, **kwargs)\n\u001b[0;32m--> 225\u001b[0;31m                     for func, args, kwargs in self.items]\n\u001b[0m\u001b[1;32m    226\u001b[0m \u001b[0;34m\u001b[0m\u001b[0m\n\u001b[1;32m    227\u001b[0m     \u001b[0;32mdef\u001b[0m \u001b[0m__len__\u001b[0m\u001b[0;34m(\u001b[0m\u001b[0mself\u001b[0m\u001b[0;34m)\u001b[0m\u001b[0;34m:\u001b[0m\u001b[0;34m\u001b[0m\u001b[0;34m\u001b[0m\u001b[0m\n",
      "\u001b[0;32m//anaconda3/lib/python3.7/site-packages/surprise/model_selection/validation.py\u001b[0m in \u001b[0;36mfit_and_score\u001b[0;34m(algo, trainset, testset, measures, return_train_measures)\u001b[0m\n\u001b[1;32m    162\u001b[0m \u001b[0;34m\u001b[0m\u001b[0m\n\u001b[1;32m    163\u001b[0m     \u001b[0mstart_fit\u001b[0m \u001b[0;34m=\u001b[0m \u001b[0mtime\u001b[0m\u001b[0;34m.\u001b[0m\u001b[0mtime\u001b[0m\u001b[0;34m(\u001b[0m\u001b[0;34m)\u001b[0m\u001b[0;34m\u001b[0m\u001b[0;34m\u001b[0m\u001b[0m\n\u001b[0;32m--> 164\u001b[0;31m     \u001b[0malgo\u001b[0m\u001b[0;34m.\u001b[0m\u001b[0mfit\u001b[0m\u001b[0;34m(\u001b[0m\u001b[0mtrainset\u001b[0m\u001b[0;34m)\u001b[0m\u001b[0;34m\u001b[0m\u001b[0;34m\u001b[0m\u001b[0m\n\u001b[0m\u001b[1;32m    165\u001b[0m     \u001b[0mfit_time\u001b[0m \u001b[0;34m=\u001b[0m \u001b[0mtime\u001b[0m\u001b[0;34m.\u001b[0m\u001b[0mtime\u001b[0m\u001b[0;34m(\u001b[0m\u001b[0;34m)\u001b[0m \u001b[0;34m-\u001b[0m \u001b[0mstart_fit\u001b[0m\u001b[0;34m\u001b[0m\u001b[0;34m\u001b[0m\u001b[0m\n\u001b[1;32m    166\u001b[0m     \u001b[0mstart_test\u001b[0m \u001b[0;34m=\u001b[0m \u001b[0mtime\u001b[0m\u001b[0;34m.\u001b[0m\u001b[0mtime\u001b[0m\u001b[0;34m(\u001b[0m\u001b[0;34m)\u001b[0m\u001b[0;34m\u001b[0m\u001b[0;34m\u001b[0m\u001b[0m\n",
      "\u001b[0;32m//anaconda3/lib/python3.7/site-packages/surprise/prediction_algorithms/matrix_factorization.pyx\u001b[0m in \u001b[0;36msurprise.prediction_algorithms.matrix_factorization.NMF.fit\u001b[0;34m()\u001b[0m\n",
      "\u001b[0;32m//anaconda3/lib/python3.7/site-packages/surprise/prediction_algorithms/matrix_factorization.pyx\u001b[0m in \u001b[0;36msurprise.prediction_algorithms.matrix_factorization.NMF.sgd\u001b[0;34m()\u001b[0m\n",
      "\u001b[0;31mZeroDivisionError\u001b[0m: float division"
     ]
    }
   ],
   "source": [
    "algo_dict = {'SVD': SVD(),\n",
    "             'SVDpp': SVDpp(),\n",
    "             'SlopeOne': SlopeOne(),\n",
    "             'CoClustering': CoClustering(),\n",
    "             'KNNWithMeans': KNNWithMeans(),\n",
    "             'NormalPredictor': NormalPredictor(),\n",
    "             'BaselineOnly': BaselineOnly()}\n",
    "\n",
    "for algo in algo_dict:\n",
    "    print(algo)\n",
    "    print(cross_validate(algo_dict[algo], data, measures=['RMSE', 'MAE'], cv=3, verbose=True))"
   ]
  },
  {
   "cell_type": "markdown",
   "metadata": {},
   "source": [
    "### SVD, SVDpp, and KNN do well\n",
    "\n",
    "* Probably do even better with more data, but it takes time...\n",
    "* Move forward with SVDpp\n",
    "* Train with 1k, create pred workflow for the detector of choice"
   ]
  },
  {
   "cell_type": "code",
   "execution_count": 115,
   "metadata": {},
   "outputs": [],
   "source": [
    "data = Dataset.load_from_df(X_melt[['track_id', 'variable', 'value']]\n",
    "                            .query('track_id < 50000'),\n",
    "                            reader)\n",
    "data = data.build_full_trainset()"
   ]
  },
  {
   "cell_type": "code",
   "execution_count": 116,
   "metadata": {},
   "outputs": [],
   "source": [
    "algo = SVDpp(n_factors=20, n_epochs=20)"
   ]
  },
  {
   "cell_type": "code",
   "execution_count": 117,
   "metadata": {},
   "outputs": [
    {
     "data": {
      "text/plain": [
       "<surprise.prediction_algorithms.matrix_factorization.SVDpp at 0x1a739ba2b0>"
      ]
     },
     "execution_count": 117,
     "metadata": {},
     "output_type": "execute_result"
    }
   ],
   "source": [
    "algo.fit(train)"
   ]
  },
  {
   "cell_type": "markdown",
   "metadata": {},
   "source": [
    "## Time to make predictions\n",
    "\n",
    "* Make a copy of our X_test\n",
    "* For each track, for each plane that we need to predict, predict x, y, px, py, pz"
   ]
  },
  {
   "cell_type": "code",
   "execution_count": 118,
   "metadata": {},
   "outputs": [],
   "source": [
    "def get_kinematic_pred(algo, track_id, kinematic):\n",
    "    return algo.predict(track_id, kinematic).est"
   ]
  },
  {
   "cell_type": "code",
   "execution_count": 119,
   "metadata": {},
   "outputs": [],
   "source": [
    "def get_track_kinematic_pred_for_plane(algo, track_id, plane):\n",
    "    kinematics = [k + str(int(plane))\n",
    "                  for k in ['x', 'y', 'px', 'py', 'pz']]\n",
    "    plane_dict = {kin: get_kinematic_pred(algo, track_id, kin)\n",
    "                  for kin in kinematics}\n",
    "    return plane_dict"
   ]
  },
  {
   "cell_type": "code",
   "execution_count": 120,
   "metadata": {},
   "outputs": [
    {
     "data": {
      "text/plain": [
       "{'x15': 3.033402843600961,\n",
       " 'y15': 2.978028441579763,\n",
       " 'px15': 2.9850219111344884,\n",
       " 'py15': 3.021867014894096,\n",
       " 'pz15': 3.0038923592644524}"
      ]
     },
     "execution_count": 120,
     "metadata": {},
     "output_type": "execute_result"
    }
   ],
   "source": [
    "get_track_kinematic_pred_for_plane(algo, 0, 15)"
   ]
  },
  {
   "cell_type": "code",
   "execution_count": 121,
   "metadata": {},
   "outputs": [],
   "source": [
    "def fill_eval_plane_for_track(algo, X, track_id):\n",
    "    plane = get_test_detector_plane(X.loc[track_id])\n",
    "    plane_dict = get_track_kinematic_pred_for_plane(algo, track_id, plane)\n",
    "    for kin in plane_dict:\n",
    "        X.loc[track_id, kin] = plane_dict[kin]"
   ]
  },
  {
   "cell_type": "code",
   "execution_count": 122,
   "metadata": {},
   "outputs": [],
   "source": [
    "X_pred_scaled = X_test_scaled.copy()"
   ]
  },
  {
   "cell_type": "code",
   "execution_count": 123,
   "metadata": {},
   "outputs": [],
   "source": [
    "for ix in X_pred_scaled.index.values:\n",
    "    fill_eval_plane_for_track(algo, X_pred_scaled, ix)"
   ]
  },
  {
   "cell_type": "code",
   "execution_count": 124,
   "metadata": {},
   "outputs": [],
   "source": [
    "X_pred_values = scaler.inverse_transform(X_pred_scaled)\n",
    "X_pred = pd.DataFrame(X_pred_values, columns=X_pred_scaled.columns,\n",
    "                      index=X_pred_scaled.index)"
   ]
  },
  {
   "cell_type": "markdown",
   "metadata": {},
   "source": [
    "## Spot check!"
   ]
  },
  {
   "cell_type": "code",
   "execution_count": 125,
   "metadata": {},
   "outputs": [
    {
     "name": "stdout",
     "output_type": "stream",
     "text": [
      "PRED:\n",
      " x11     50.211999\n",
      "y11     49.927170\n",
      "px11     0.450275\n",
      "py11     0.454208\n",
      "pz11     4.567603\n",
      "Name: 20, dtype: float64 \n",
      "\n",
      "TRUE:\n",
      " x      4.108309\n",
      "y     19.228528\n",
      "px    -0.039872\n",
      "py     0.212423\n",
      "pz     2.011996\n",
      "Name: 20, dtype: float64 \n",
      "\n",
      "-------------\n",
      "\n",
      "PRED:\n",
      " x20     62.445658\n",
      "y20     61.497072\n",
      "px20     0.445079\n",
      "py20     0.449278\n",
      "pz20     4.566731\n",
      "Name: 50, dtype: float64 \n",
      "\n",
      "TRUE:\n",
      " x     18.472740\n",
      "y    -19.001599\n",
      "px     0.082835\n",
      "py    -0.189903\n",
      "pz     2.080941\n",
      "Name: 50, dtype: float64 \n",
      "\n",
      "-------------\n",
      "\n",
      "PRED:\n",
      " x20     62.445658\n",
      "y20     61.497072\n",
      "px20     0.445079\n",
      "py20     0.449278\n",
      "pz20     4.566731\n",
      "Name: 1000, dtype: float64 \n",
      "\n",
      "TRUE:\n",
      " x     10.736746\n",
      "y     13.892162\n",
      "px     0.025428\n",
      "py    -0.020759\n",
      "pz     1.876688\n",
      "Name: 1000, dtype: float64 \n",
      "\n",
      "-------------\n",
      "\n",
      "PRED:\n",
      " x13     57.438868\n",
      "y13     56.440951\n",
      "px13     0.450998\n",
      "py13     0.455674\n",
      "pz13     4.567316\n",
      "Name: 5000, dtype: float64 \n",
      "\n",
      "TRUE:\n",
      " x     -1.534074\n",
      "y     39.745310\n",
      "px     0.062563\n",
      "py     0.165445\n",
      "pz     1.700621\n",
      "Name: 5000, dtype: float64 \n",
      "\n",
      "-------------\n",
      "\n"
     ]
    }
   ],
   "source": [
    "for track in [20, 50, 1000, 5000]:\n",
    "    plane = get_test_detector_plane(X_test.loc[track])\n",
    "    print(\"PRED:\\n\", X_pred.loc[track, [kin + str(int(plane))\n",
    "                             for kin in ['x', 'y', 'px', 'py', 'pz']]],\n",
    "          \"\\n\")\n",
    "    print(\"TRUE:\\n\", X_true.loc[track], \"\\n\\n-------------\\n\")"
   ]
  },
  {
   "cell_type": "markdown",
   "metadata": {},
   "source": [
    "## I've tinkered around a bit, and this is discouraging...\n",
    "\n",
    "* Time to go back to the drawing board and try out a boring old sequence model :("
   ]
  },
  {
   "cell_type": "code",
   "execution_count": null,
   "metadata": {},
   "outputs": [],
   "source": [
    "from tensorflow.keras.backend import "
   ]
  }
 ],
 "metadata": {
  "kernelspec": {
   "display_name": "Python 3",
   "language": "python",
   "name": "python3"
  },
  "language_info": {
   "codemirror_mode": {
    "name": "ipython",
    "version": 3
   },
   "file_extension": ".py",
   "mimetype": "text/x-python",
   "name": "python",
   "nbconvert_exporter": "python",
   "pygments_lexer": "ipython3",
   "version": "3.7.3"
  }
 },
 "nbformat": 4,
 "nbformat_minor": 4
}
