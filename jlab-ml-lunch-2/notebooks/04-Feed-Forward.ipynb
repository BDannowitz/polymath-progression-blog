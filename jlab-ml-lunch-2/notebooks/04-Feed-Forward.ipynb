{
 "cells": [
  {
   "cell_type": "markdown",
   "metadata": {},
   "source": [
    "# 04 - Feed Forward Approach\n",
    "\n",
    "* After getting 4th place out of 9, I decided to try a simpler strategy\n",
    "* Input: one detector plane, output: the next detector plane\n",
    "* Each track has 24 training samples\n",
    "* Let's try it out and see what happens"
   ]
  },
  {
   "cell_type": "code",
   "execution_count": 2,
   "metadata": {},
   "outputs": [],
   "source": [
    "%matplotlib inline"
   ]
  },
  {
   "cell_type": "code",
   "execution_count": 3,
   "metadata": {},
   "outputs": [],
   "source": [
    "import pandas as pd\n",
    "import numpy as np\n",
    "from tensorflow.keras.models import Sequential\n",
    "from tensorflow.keras.layers import LSTM, Dense, LeakyReLU, Dropout, ReLU, GRU, TimeDistributed, Conv2D, MaxPooling2D, Flatten\n",
    "from tensorflow.keras.preprocessing.sequence import pad_sequences\n",
    "from tensorflow.keras.callbacks import EarlyStopping\n",
    "from jlab import load_test_data, get_test_detector_plane"
   ]
  },
  {
   "cell_type": "markdown",
   "metadata": {},
   "source": [
    "## Load up and prep the datasets"
   ]
  },
  {
   "cell_type": "code",
   "execution_count": 88,
   "metadata": {},
   "outputs": [],
   "source": [
    "data = pd.read_csv('MLchallenge2_training.csv')"
   ]
  },
  {
   "cell_type": "markdown",
   "metadata": {},
   "source": [
    "## Construct the training data and targets\n",
    "\n",
    "* For each track\n",
    "  * For each detector between 1-24\n",
    "    * Extract x, y, z, px, py, pz for detectors 1-24\n",
    "    * Add detector ID\n",
    "    * Append to X_train\n",
    "    * Append the next detector's x, y, px, py, pz to y_train"
   ]
  },
  {
   "cell_type": "markdown",
   "metadata": {},
   "source": [
    "### Training Dataset"
   ]
  },
  {
   "cell_type": "code",
   "execution_count": 90,
   "metadata": {},
   "outputs": [],
   "source": [
    "def extract_X_y(df):\n",
    "    N_TRACKS = len(df)\n",
    "\n",
    "    X_train_single = np.ndarray(shape=(N_TRACKS * 22, 7))\n",
    "    y_train_single = np.ndarray(shape=(N_TRACKS * 22, 5))\n",
    "    for ix in range(0, N_TRACKS):\n",
    "        alldetvals = df.iloc[ix]\n",
    "        for twix in range(2, N_DETECTORS-1):\n",
    "            detvals = list(alldetvals[[f\"{kin}{twix}\" for kin in [\"x\", \"y\", \"z\", \"px\", \"py\", \"pz\"]]])\n",
    "            detvals.append(twix)\n",
    "            detvals = np.array(detvals)\n",
    "            X_train_single[(22*ix + twix - 2)] = detvals\n",
    "            nextdetvals = np.array(alldetvals[[f\"{kin}{twix + 1}\" for kin in [\"x\", \"y\", \"px\", \"py\", \"pz\"]]])\n",
    "            y_train_single[(22*ix + twix - 2)] = nextdetvals\n",
    "            \n",
    "    return X_train_single, y_train_single"
   ]
  },
  {
   "cell_type": "code",
   "execution_count": 89,
   "metadata": {},
   "outputs": [],
   "source": [
    "X_train, y_train = extract_X_y(data.loc[0:5000])"
   ]
  },
  {
   "cell_type": "code",
   "execution_count": 91,
   "metadata": {},
   "outputs": [],
   "source": [
    "X_test, y_test = extract_X_y(data.loc[5000:6000])"
   ]
  },
  {
   "cell_type": "code",
   "execution_count": 92,
   "metadata": {},
   "outputs": [
    {
     "data": {
      "text/plain": [
       "array([-6.70072e+00, -3.41014e+01,  2.37639e+02,  1.07044e-03,\n",
       "       -5.47939e-02,  9.48410e-01,  8.00000e+00])"
      ]
     },
     "execution_count": 92,
     "metadata": {},
     "output_type": "execute_result"
    }
   ],
   "source": [
    "X_train[50]"
   ]
  },
  {
   "cell_type": "code",
   "execution_count": 93,
   "metadata": {},
   "outputs": [
    {
     "data": {
      "text/plain": [
       "array([-6.69948e+00, -3.42240e+01,  2.95884e-05, -5.46881e-02,\n",
       "        9.48391e-01])"
      ]
     },
     "execution_count": 93,
     "metadata": {},
     "output_type": "execute_result"
    }
   ],
   "source": [
    "y_train[50]"
   ]
  },
  {
   "cell_type": "code",
   "execution_count": 110,
   "metadata": {},
   "outputs": [],
   "source": [
    "from sklearn.ensemble import RandomForestRegressor"
   ]
  },
  {
   "cell_type": "code",
   "execution_count": 111,
   "metadata": {},
   "outputs": [],
   "source": [
    "rfr = RandomForestRegressor(n_estimators=1000)"
   ]
  },
  {
   "cell_type": "code",
   "execution_count": 112,
   "metadata": {},
   "outputs": [
    {
     "data": {
      "text/plain": [
       "RandomForestRegressor(bootstrap=True, criterion='mse', max_depth=None,\n",
       "                      max_features='auto', max_leaf_nodes=None,\n",
       "                      min_impurity_decrease=0.0, min_impurity_split=None,\n",
       "                      min_samples_leaf=1, min_samples_split=2,\n",
       "                      min_weight_fraction_leaf=0.0, n_estimators=1000,\n",
       "                      n_jobs=None, oob_score=False, random_state=None,\n",
       "                      verbose=0, warm_start=False)"
      ]
     },
     "execution_count": 112,
     "metadata": {},
     "output_type": "execute_result"
    }
   ],
   "source": [
    "rfr.fit(X_train, y_train)"
   ]
  },
  {
   "cell_type": "code",
   "execution_count": 113,
   "metadata": {},
   "outputs": [],
   "source": [
    "y_pred = rfr.predict(X_test)"
   ]
  },
  {
   "cell_type": "code",
   "execution_count": 115,
   "metadata": {},
   "outputs": [],
   "source": [
    "from sklearn.metrics import mean_squared_error"
   ]
  },
  {
   "cell_type": "code",
   "execution_count": 116,
   "metadata": {},
   "outputs": [],
   "source": [
    "mse = mean_squared_error(y_test, y_pred)"
   ]
  },
  {
   "cell_type": "code",
   "execution_count": 117,
   "metadata": {},
   "outputs": [
    {
     "data": {
      "text/plain": [
       "0.5246346810425874"
      ]
     },
     "execution_count": 117,
     "metadata": {},
     "output_type": "execute_result"
    }
   ],
   "source": [
    "mse"
   ]
  },
  {
   "cell_type": "code",
   "execution_count": 94,
   "metadata": {},
   "outputs": [],
   "source": [
    "from tensorflow.keras.models import Sequential\n",
    "from tensorflow.keras.layers import GRU, Dense, LeakyReLU, Dropout\n",
    "from tensorflow.keras.callbacks import EarlyStopping\n",
    "import joblib"
   ]
  },
  {
   "cell_type": "code",
   "execution_count": 106,
   "metadata": {},
   "outputs": [],
   "source": [
    "def lrelu(x):\n",
    "    return LeakyReLU()(x)\n",
    "\n",
    "\n",
    "def dense_model(dense_units=100, dropout_rate=0.25):\n",
    "    \"\"\"Model definition.\n",
    "    \n",
    "    Parameters\n",
    "    ----------\n",
    "    dense_units : int\n",
    "    dropout_rate : float\n",
    "    \n",
    "    Returns\n",
    "    -------\n",
    "    tensorflow.keras.models.Sequential\n",
    "    \n",
    "    \"\"\"\n",
    "    \n",
    "    model = Sequential()\n",
    "    \n",
    "    model.add(Dense(500, activation=lrelu,\n",
    "                  input_dim=7))\n",
    "    model.add(Dropout(dropout_rate))\n",
    "    model.add(Dense(100, activation=lrelu))\n",
    "    model.add(Dropout(dropout_rate))\n",
    "    model.add(Dense(5))\n",
    "    \n",
    "    model.compile(loss='mse', optimizer='adam')\n",
    "    \n",
    "    return model"
   ]
  },
  {
   "cell_type": "code",
   "execution_count": 107,
   "metadata": {},
   "outputs": [],
   "source": [
    "model = dense_model()"
   ]
  },
  {
   "cell_type": "code",
   "execution_count": 108,
   "metadata": {},
   "outputs": [
    {
     "name": "stdout",
     "output_type": "stream",
     "text": [
      "Model: \"sequential_9\"\n",
      "_________________________________________________________________\n",
      "Layer (type)                 Output Shape              Param #   \n",
      "=================================================================\n",
      "dense_27 (Dense)             (None, 500)               4000      \n",
      "_________________________________________________________________\n",
      "dropout_18 (Dropout)         (None, 500)               0         \n",
      "_________________________________________________________________\n",
      "dense_28 (Dense)             (None, 100)               50100     \n",
      "_________________________________________________________________\n",
      "dropout_19 (Dropout)         (None, 100)               0         \n",
      "_________________________________________________________________\n",
      "dense_29 (Dense)             (None, 5)                 505       \n",
      "=================================================================\n",
      "Total params: 54,605\n",
      "Trainable params: 54,605\n",
      "Non-trainable params: 0\n",
      "_________________________________________________________________\n"
     ]
    }
   ],
   "source": [
    "model.summary()"
   ]
  },
  {
   "cell_type": "code",
   "execution_count": 109,
   "metadata": {},
   "outputs": [
    {
     "name": "stdout",
     "output_type": "stream",
     "text": [
      "Train on 110022 samples, validate on 22022 samples\n",
      "Epoch 1/50\n",
      "110022/110022 [==============================] - 8s 68us/sample - loss: 6.5095 - val_loss: 1.0105\n",
      "Epoch 2/50\n",
      "110022/110022 [==============================] - 7s 64us/sample - loss: 2.0344 - val_loss: 0.9027\n",
      "Epoch 3/50\n",
      "110022/110022 [==============================] - 7s 64us/sample - loss: 1.9189 - val_loss: 0.7303\n",
      "Epoch 4/50\n",
      "110022/110022 [==============================] - 7s 64us/sample - loss: 1.8968 - val_loss: 0.7220\n",
      "Epoch 5/50\n",
      "110022/110022 [==============================] - 7s 64us/sample - loss: 1.8854 - val_loss: 0.5414\n",
      "Epoch 6/50\n",
      "110022/110022 [==============================] - 7s 64us/sample - loss: 1.8632 - val_loss: 0.5917\n",
      "Epoch 7/50\n",
      "110022/110022 [==============================] - 7s 64us/sample - loss: 1.8528 - val_loss: 0.7207\n",
      "Epoch 8/50\n",
      "110022/110022 [==============================] - 7s 64us/sample - loss: 1.8675 - val_loss: 1.0031\n",
      "Epoch 9/50\n",
      "110022/110022 [==============================] - 7s 64us/sample - loss: 1.8497 - val_loss: 0.7382\n",
      "Epoch 10/50\n",
      "110022/110022 [==============================] - 7s 64us/sample - loss: 1.8391 - val_loss: 0.5691\n"
     ]
    },
    {
     "data": {
      "text/plain": [
       "['dense_model.history']"
      ]
     },
     "execution_count": 109,
     "metadata": {},
     "output_type": "execute_result"
    }
   ],
   "source": [
    "es = EarlyStopping(monitor='val_loss', mode='min',\n",
    "                   patience=5, restore_best_weights=True)\n",
    "history = model.fit(\n",
    "    x=X_train,\n",
    "    y=y_train,\n",
    "    validation_data=(X_test, y_test),\n",
    "    callbacks=[es],\n",
    "    epochs=50,\n",
    ")\n",
    "\n",
    "model.save(\"dense_model.h5\")\n",
    "joblib.dump(history.history, \"dense_model.history\")"
   ]
  },
  {
   "cell_type": "code",
   "execution_count": 101,
   "metadata": {},
   "outputs": [
    {
     "data": {
      "image/png": "[encoded data removed]",
      "text/plain": [
       "<Figure size 432x288 with 1 Axes>"
      ]
     },
     "metadata": {
      "needs_background": "light"
     },
     "output_type": "display_data"
    }
   ],
   "source": [
    "import matplotlib.pyplot as plt\n",
    "\n",
    "# Plot training & validation loss values\n",
    "plt.plot(history.history['loss'])\n",
    "plt.plot(history.history['val_loss'])\n",
    "plt.title('Model loss')\n",
    "plt.ylabel('Loss')\n",
    "plt.xlabel('Epoch')\n",
    "plt.legend(['Train', 'Test'], loc='upper left')\n",
    "plt.show()"
   ]
  }
 ],
 "metadata": {
  "kernelspec": {
   "display_name": "Python 3",
   "language": "python",
   "name": "python3"
  },
  "language_info": {
   "codemirror_mode": {
    "name": "ipython",
    "version": 3
   },
   "file_extension": ".py",
   "mimetype": "text/x-python",
   "name": "python",
   "nbconvert_exporter": "python",
   "pygments_lexer": "ipython3",
   "version": "3.7.3"
  }
 },
 "nbformat": 4,
 "nbformat_minor": 4
}
