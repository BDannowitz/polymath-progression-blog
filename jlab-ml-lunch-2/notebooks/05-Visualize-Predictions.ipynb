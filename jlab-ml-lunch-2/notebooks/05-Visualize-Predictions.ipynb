{
 "cells": [
  {
   "cell_type": "markdown",
   "metadata": {},
   "source": [
    "# JLab ML Lunch 2 - Data Exploration\n",
    "\n",
    "* Second ML challenge hosted\n",
    "* On October 30th, a test dataset will be released, and predictions must be submitted within 24 hours\n",
    "* Let's take a look at the training data!"
   ]
  },
  {
   "cell_type": "code",
   "execution_count": 1,
   "metadata": {},
   "outputs": [],
   "source": [
    "%matplotlib widget"
   ]
  },
  {
   "cell_type": "code",
   "execution_count": 116,
   "metadata": {},
   "outputs": [],
   "source": [
    "import os\n",
    "import pandas as pd\n",
    "import numpy as np\n",
    "import matplotlib.pyplot as plt\n",
    "from mpl_toolkits.mplot3d import axes3d\n",
    "import imageio"
   ]
  },
  {
   "cell_type": "code",
   "execution_count": 56,
   "metadata": {},
   "outputs": [],
   "source": [
    "from sys import path\n",
    "path.append('../src')\n",
    "from jlab import load_test_data, test_to_time_series, Z_VALS"
   ]
  },
  {
   "cell_type": "markdown",
   "metadata": {},
   "source": [
    "## Training Data\n",
    "\n",
    "* This shows the state vector ($x,y,z, p_x, p_y, p_z$) for the origin and 24 detector stations\n",
    "* Jupyter-matplotlib widget used for handy visualizations (https://github.com/matplotlib/jupyter-matplotlib)"
   ]
  },
  {
   "cell_type": "code",
   "execution_count": 11,
   "metadata": {},
   "outputs": [],
   "source": [
    "data = load_test_data(\"../data/MLchallenge2_testing_inputs.csv\")\n",
    "X = test_to_time_series(data)"
   ]
  },
  {
   "cell_type": "code",
   "execution_count": 53,
   "metadata": {},
   "outputs": [],
   "source": [
    "y_pred = pd.read_csv('../data/submission/dannowitz_jlab2_submission_20191112.csv',\n",
    "                     header=None, names=[0, 1, 3, 4, 5])"
   ]
  },
  {
   "cell_type": "code",
   "execution_count": 55,
   "metadata": {},
   "outputs": [],
   "source": [
    "y_true = pd.read_csv('../data/ANSWERS.csv',\n",
    "                     header=None, names=[0, 1, 3, 4, 5])"
   ]
  },
  {
   "cell_type": "code",
   "execution_count": 39,
   "metadata": {},
   "outputs": [],
   "source": [
    "def get_track_start(track):\n",
    "    for j in range(0, 24):\n",
    "        if not all(track[j][i] == 0.0 for i in range(0,len(track[j]))):\n",
    "            return j\n",
    "    return None"
   ]
  },
  {
   "cell_type": "code",
   "execution_count": 40,
   "metadata": {},
   "outputs": [],
   "source": [
    "def unpad_track(track):\n",
    "    return track[get_track_start(track):]"
   ]
  },
  {
   "cell_type": "code",
   "execution_count": 107,
   "metadata": {},
   "outputs": [],
   "source": [
    "def plot_quiver_track(track, color='b',\n",
    "                      ax=None, elev=None,\n",
    "                      azim=None, dist=None, alpha=1.0):\n",
    "    \n",
    "    # Get all the values of each type of feature\n",
    "    x = [track[i][0] for i in range(0, len(track))]\n",
    "    y = [track[i][1] for i in range(0, len(track))]\n",
    "    z = [track[i][2] for i in range(0, len(track))]\n",
    "    px = [track[i][3] for i in range(0, len(track))]\n",
    "    py = [track[i][4] for i in range(0, len(track))]\n",
    "    pz = [track[i][5] for i in range(0, len(track))]\n",
    "\n",
    "    # Create our 3D figure\n",
    "    if ax is None:\n",
    "        fig = plt.figure(figsize=(5,5))\n",
    "        ax = fig.gca(projection='3d')   \n",
    "        ax.xaxis.set_pane_color((1,1,1,1))\n",
    "        ax.yaxis.set_pane_color((1,1,1,1))\n",
    "        ax.zaxis.set_pane_color((1,1,1,1))\n",
    "    else:\n",
    "        fig = None\n",
    "    \n",
    "    # Set the three 3D plot viewing attributes\n",
    "    if elev is not None:\n",
    "        ax.elev = elev\n",
    "    if azim is not None:\n",
    "        ax.azim = azim\n",
    "    if dist is not None:\n",
    "        ax.dist = dist\n",
    "    \n",
    "    # Create our quiver plot\n",
    "    ax.quiver(z, x, y, pz, px, py, length=14,\n",
    "              color=color, alpha=alpha)\n",
    "    \n",
    "    ax.set_xlabel(\"z\", fontweight=\"bold\")\n",
    "    ax.set_ylabel(\"x\", fontweight=\"bold\")\n",
    "    ax.set_zlabel(\"y\", fontweight=\"bold\")\n",
    "    plt.tight_layout()\n",
    "\n",
    "    return fig, ax"
   ]
  },
  {
   "cell_type": "code",
   "execution_count": 108,
   "metadata": {},
   "outputs": [],
   "source": [
    "track_id = 7\n",
    "\n",
    "track = unpad_track(X[track_id])\n",
    "\n",
    "track_pred = y_pred.loc[track_id]\n",
    "track_pred.loc[2] = Z_VALS[len(track)]\n",
    "track_pred = np.array([track_pred.sort_index().values])\n",
    "\n",
    "track_true = y_true.loc[track_id]\n",
    "track_true.loc[2] = Z_VALS[len(track)]\n",
    "track_true = np.array([track_true.sort_index().values])"
   ]
  },
  {
   "cell_type": "code",
   "execution_count": 109,
   "metadata": {},
   "outputs": [
    {
     "data": {
      "application/vnd.jupyter.widget-view+json": {
       "model_id": "57ad835733cc4767b7c60d3f484d2b84",
       "version_major": 2,
       "version_minor": 0
      },
      "text/plain": [
       "Canvas(toolbar=Toolbar(toolitems=[('Home', 'Reset original view', 'home', 'home'), ('Back', 'Back to previous …"
      ]
     },
     "metadata": {},
     "output_type": "display_data"
    }
   ],
   "source": [
    "fig, ax = plot_quiver_track(track, alpha=0.5)\n",
    "_, _ = plot_quiver_track(track_pred, ax=ax, color='g')\n",
    "_, _ = plot_quiver_track(track_true, ax=ax, color='r')"
   ]
  },
  {
   "cell_type": "code",
   "execution_count": 113,
   "metadata": {},
   "outputs": [],
   "source": [
    "gif_filename = \"track-pred-anim\"\n",
    "\n",
    "ax.elev = 50.\n",
    "ax.azim = 90.\n",
    "ax.dist = 9.\n",
    "\n",
    "img_files = []\n",
    "for n in range(0, 100):\n",
    "    ax.elev = ax.elev-0.4\n",
    "    ax.azim = ax.azim-1.5\n",
    "    filename = f'../images/{gif_filename}/img{str(n).zfill(3)}.png'\n",
    "    img_files.append(filename)\n",
    "    plt.savefig(filename, bbox_inches='tight')"
   ]
  },
  {
   "cell_type": "code",
   "execution_count": 114,
   "metadata": {},
   "outputs": [],
   "source": [
    "images = []\n",
    "for filename in img_files:\n",
    "    images.append(imageio.imread(filename))\n",
    "imageio.mimsave('../images/track-pred.gif', images)"
   ]
  },
  {
   "cell_type": "code",
   "execution_count": 122,
   "metadata": {},
   "outputs": [],
   "source": [
    "def make_track_gif(X, true, pred, track_id):\n",
    "\n",
    "    track = unpad_track(X[track_id])\n",
    "\n",
    "    track_pred = pred.loc[track_id]\n",
    "    track_pred.loc[2] = Z_VALS[len(track)]\n",
    "    track_pred = np.array([track_pred.sort_index().values])\n",
    "\n",
    "    track_true = true.loc[track_id]\n",
    "    track_true.loc[2] = Z_VALS[len(track)]\n",
    "    track_true = np.array([track_true.sort_index().values])\n",
    "    \n",
    "    fig, ax = plot_quiver_track(track, alpha=0.5)\n",
    "    _, _ = plot_quiver_track(track_pred, ax=ax, color='g')\n",
    "    _, _ = plot_quiver_track(track_true, ax=ax, color='r')\n",
    "    \n",
    "    gif_filename = f\"track-pred-{track_id}-anim\"\n",
    "    try:\n",
    "        os.mkdir(f\"../images/{gif_filename}\")\n",
    "    except:\n",
    "        # path exists\n",
    "        pass\n",
    "\n",
    "    ax.elev = 50.\n",
    "    ax.azim = 90.\n",
    "    ax.dist = 9.\n",
    "\n",
    "    img_files = []\n",
    "    for n in range(0, 100):\n",
    "        ax.elev = ax.elev-0.4\n",
    "        ax.azim = ax.azim-1.5\n",
    "        filename = f'../images/{gif_filename}/img{str(n).zfill(3)}.png'\n",
    "        img_files.append(filename)\n",
    "        plt.savefig(filename, bbox_inches='tight')\n",
    "        \n",
    "    images = []\n",
    "    for filename in img_files:\n",
    "        images.append(imageio.imread(filename))\n",
    "    imageio.mimsave(f'../images/{gif_filename}.gif', images)"
   ]
  },
  {
   "cell_type": "code",
   "execution_count": 123,
   "metadata": {},
   "outputs": [
    {
     "data": {
      "application/vnd.jupyter.widget-view+json": {
       "model_id": "609fd64f28b04e919226c824ec08a870",
       "version_major": 2,
       "version_minor": 0
      },
      "text/plain": [
       "Canvas(toolbar=Toolbar(toolitems=[('Home', 'Reset original view', 'home', 'home'), ('Back', 'Back to previous …"
      ]
     },
     "metadata": {},
     "output_type": "display_data"
    },
    {
     "name": "stderr",
     "output_type": "stream",
     "text": [
      "//anaconda3/lib/python3.7/site-packages/ipykernel_launcher.py:15: RuntimeWarning: More than 20 figures have been opened. Figures created through the pyplot interface (`matplotlib.pyplot.figure`) are retained until explicitly closed and may consume too much memory. (To control this warning, see the rcParam `figure.max_open_warning`).\n",
      "  from ipykernel import kernelapp as app\n"
     ]
    },
    {
     "data": {
      "application/vnd.jupyter.widget-view+json": {
       "model_id": "3d841160c4004a28b06d8e96b72b2e85",
       "version_major": 2,
       "version_minor": 0
      },
      "text/plain": [
       "Canvas(toolbar=Toolbar(toolitems=[('Home', 'Reset original view', 'home', 'home'), ('Back', 'Back to previous …"
      ]
     },
     "metadata": {},
     "output_type": "display_data"
    },
    {
     "name": "stderr",
     "output_type": "stream",
     "text": [
      "//anaconda3/lib/python3.7/site-packages/ipykernel_launcher.py:15: RuntimeWarning: More than 20 figures have been opened. Figures created through the pyplot interface (`matplotlib.pyplot.figure`) are retained until explicitly closed and may consume too much memory. (To control this warning, see the rcParam `figure.max_open_warning`).\n",
      "  from ipykernel import kernelapp as app\n"
     ]
    },
    {
     "data": {
      "application/vnd.jupyter.widget-view+json": {
       "model_id": "0c3143d31d8441048d1fcbfeb1eb05cf",
       "version_major": 2,
       "version_minor": 0
      },
      "text/plain": [
       "Canvas(toolbar=Toolbar(toolitems=[('Home', 'Reset original view', 'home', 'home'), ('Back', 'Back to previous …"
      ]
     },
     "metadata": {},
     "output_type": "display_data"
    },
    {
     "name": "stderr",
     "output_type": "stream",
     "text": [
      "//anaconda3/lib/python3.7/site-packages/ipykernel_launcher.py:15: RuntimeWarning: More than 20 figures have been opened. Figures created through the pyplot interface (`matplotlib.pyplot.figure`) are retained until explicitly closed and may consume too much memory. (To control this warning, see the rcParam `figure.max_open_warning`).\n",
      "  from ipykernel import kernelapp as app\n"
     ]
    },
    {
     "data": {
      "application/vnd.jupyter.widget-view+json": {
       "model_id": "72ada9e075b74a6e9735b965c437f927",
       "version_major": 2,
       "version_minor": 0
      },
      "text/plain": [
       "Canvas(toolbar=Toolbar(toolitems=[('Home', 'Reset original view', 'home', 'home'), ('Back', 'Back to previous …"
      ]
     },
     "metadata": {},
     "output_type": "display_data"
    },
    {
     "name": "stderr",
     "output_type": "stream",
     "text": [
      "//anaconda3/lib/python3.7/site-packages/ipykernel_launcher.py:15: RuntimeWarning: More than 20 figures have been opened. Figures created through the pyplot interface (`matplotlib.pyplot.figure`) are retained until explicitly closed and may consume too much memory. (To control this warning, see the rcParam `figure.max_open_warning`).\n",
      "  from ipykernel import kernelapp as app\n"
     ]
    },
    {
     "data": {
      "application/vnd.jupyter.widget-view+json": {
       "model_id": "222d03be82424b01a547367a12055bba",
       "version_major": 2,
       "version_minor": 0
      },
      "text/plain": [
       "Canvas(toolbar=Toolbar(toolitems=[('Home', 'Reset original view', 'home', 'home'), ('Back', 'Back to previous …"
      ]
     },
     "metadata": {},
     "output_type": "display_data"
    }
   ],
   "source": [
    "make_track_gif(X, y_true, y_pred, 7)\n",
    "make_track_gif(X, y_true, y_pred, 10)\n",
    "make_track_gif(X, y_true, y_pred, 15)\n",
    "make_track_gif(X, y_true, y_pred, 20)\n",
    "make_track_gif(X, y_true, y_pred, 25)"
   ]
  }
 ],
 "metadata": {
  "kernelspec": {
   "display_name": "Python 3",
   "language": "python",
   "name": "python3"
  },
  "language_info": {
   "codemirror_mode": {
    "name": "ipython",
    "version": 3
   },
   "file_extension": ".py",
   "mimetype": "text/x-python",
   "name": "python",
   "nbconvert_exporter": "python",
   "pygments_lexer": "ipython3",
   "version": "3.7.3"
  }
 },
 "nbformat": 4,
 "nbformat_minor": 4
}
