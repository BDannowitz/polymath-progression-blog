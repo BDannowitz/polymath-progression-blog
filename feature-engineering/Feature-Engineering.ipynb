{
 "cells": [
  {
   "cell_type": "markdown",
   "metadata": {},
   "source": [
    "# Feature Engineering\n",
    "\n",
    "In their raw form, features are often a poor fit for Machine Learning usage. Often times, you have to scale them down or manufacture new features based on original features in order to attain a useful data set.\n",
    "\n",
    "Here, I give a brief and basic example of such a task.\n",
    "\n",
    "1. Load the data into DataFrame\n",
    "2. Scale the data using StandardScaler\n",
    "3. Create some new features\n",
    "4. Look to see if any features have discriminating power\n",
    "5. Check that new features are time-invariant"
   ]
  },
  {
   "cell_type": "markdown",
   "metadata": {},
   "source": [
    "## 1. Load the data into a DataFrame"
   ]
  },
  {
   "cell_type": "code",
   "execution_count": 1,
   "metadata": {
    "collapsed": false
   },
   "outputs": [],
   "source": [
    "import pandas as pd\n",
    "import numpy as np\n",
    "import matplotlib.pyplot as plt\n",
    "import seaborn as sns\n",
    "%matplotlib inline\n",
    "sns.set_style(\"white\")\n",
    "sns.set_context(\"paper\", font_scale=1.4)"
   ]
  },
  {
   "cell_type": "code",
   "execution_count": 2,
   "metadata": {
    "collapsed": false
   },
   "outputs": [
    {
     "data": {
      "text/html": [
       "<div>\n",
       "<table border=\"1\" class=\"dataframe\">\n",
       "  <thead>\n",
       "    <tr style=\"text-align: right;\">\n",
       "      <th></th>\n",
       "      <th>AfterInhMATRIX5</th>\n",
       "      <th>PrescaleMATRIX5</th>\n",
       "      <th>RawMATRIX4</th>\n",
       "      <th>RawTriggers</th>\n",
       "      <th>label</th>\n",
       "    </tr>\n",
       "    <tr>\n",
       "      <th>eventID</th>\n",
       "      <th></th>\n",
       "      <th></th>\n",
       "      <th></th>\n",
       "      <th></th>\n",
       "      <th></th>\n",
       "    </tr>\n",
       "  </thead>\n",
       "  <tbody>\n",
       "    <tr>\n",
       "      <th>430001</th>\n",
       "      <td>27094</td>\n",
       "      <td>12</td>\n",
       "      <td>1598521</td>\n",
       "      <td>10759045</td>\n",
       "      <td>2</td>\n",
       "    </tr>\n",
       "    <tr>\n",
       "      <th>430002</th>\n",
       "      <td>34901</td>\n",
       "      <td>14</td>\n",
       "      <td>1670878</td>\n",
       "      <td>11813291</td>\n",
       "      <td>3</td>\n",
       "    </tr>\n",
       "    <tr>\n",
       "      <th>430003</th>\n",
       "      <td>36317</td>\n",
       "      <td>15</td>\n",
       "      <td>1675869</td>\n",
       "      <td>12002554</td>\n",
       "      <td>3</td>\n",
       "    </tr>\n",
       "    <tr>\n",
       "      <th>430004</th>\n",
       "      <td>34088</td>\n",
       "      <td>14</td>\n",
       "      <td>1637602</td>\n",
       "      <td>11564482</td>\n",
       "      <td>3</td>\n",
       "    </tr>\n",
       "    <tr>\n",
       "      <th>430005</th>\n",
       "      <td>27489</td>\n",
       "      <td>12</td>\n",
       "      <td>1587623</td>\n",
       "      <td>10627391</td>\n",
       "      <td>4</td>\n",
       "    </tr>\n",
       "  </tbody>\n",
       "</table>\n",
       "</div>"
      ],
      "text/plain": [
       "         AfterInhMATRIX5  PrescaleMATRIX5  RawMATRIX4  RawTriggers  label\n",
       "eventID                                                                  \n",
       "430001             27094               12     1598521     10759045      2\n",
       "430002             34901               14     1670878     11813291      3\n",
       "430003             36317               15     1675869     12002554      3\n",
       "430004             34088               14     1637602     11564482      3\n",
       "430005             27489               12     1587623     10627391      4"
      ]
     },
     "execution_count": 2,
     "metadata": {},
     "output_type": "execute_result"
    }
   ],
   "source": [
    "data_df = pd.read_csv('raw-data.csv', index_col='eventID')\n",
    "data_df.head()"
   ]
  },
  {
   "cell_type": "markdown",
   "metadata": {},
   "source": [
    "## 2. Scale the data using StandardScaler"
   ]
  },
  {
   "cell_type": "code",
   "execution_count": 6,
   "metadata": {
    "collapsed": false
   },
   "outputs": [],
   "source": [
    "# Very standard and useful tool for scaling features\n",
    "from sklearn.preprocessing import StandardScaler\n",
    "\n",
    "scaled_df = data_df.copy()\n",
    "scaled_df[scaled_df.columns[:-1]].astype(float)\n",
    "scaled_df[scaled_df.columns[:-1]] = \\\n",
    "    scaled_df[scaled_df.columns[:-1]].apply(lambda x: StandardScaler().fit_transform(x))"
   ]
  },
  {
   "cell_type": "markdown",
   "metadata": {},
   "source": [
    "### Note the new distribution\n",
    "\n",
    "StandardScaler scales everything down such that:\n",
    "\n",
    "* the mean is zero\n",
    "* the standard deviation is unity"
   ]
  },
  {
   "cell_type": "code",
   "execution_count": 11,
   "metadata": {
    "collapsed": false
   },
   "outputs": [
    {
     "data": {
      "text/html": [
       "<div>\n",
       "<table border=\"1\" class=\"dataframe\">\n",
       "  <thead>\n",
       "    <tr style=\"text-align: right;\">\n",
       "      <th></th>\n",
       "      <th>AfterInhMATRIX5</th>\n",
       "      <th>PrescaleMATRIX5</th>\n",
       "      <th>RawMATRIX4</th>\n",
       "      <th>RawTriggers</th>\n",
       "      <th>label</th>\n",
       "    </tr>\n",
       "  </thead>\n",
       "  <tbody>\n",
       "    <tr>\n",
       "      <th>mean</th>\n",
       "      <td>-1.732807e-15</td>\n",
       "      <td>-4.399711e-15</td>\n",
       "      <td>-1.885897e-15</td>\n",
       "      <td>-4.881057e-16</td>\n",
       "      <td>2.644401</td>\n",
       "    </tr>\n",
       "    <tr>\n",
       "      <th>std</th>\n",
       "      <td>1.000012e+00</td>\n",
       "      <td>1.000012e+00</td>\n",
       "      <td>1.000012e+00</td>\n",
       "      <td>1.000012e+00</td>\n",
       "      <td>1.866411</td>\n",
       "    </tr>\n",
       "  </tbody>\n",
       "</table>\n",
       "</div>"
      ],
      "text/plain": [
       "      AfterInhMATRIX5  PrescaleMATRIX5    RawMATRIX4   RawTriggers     label\n",
       "mean    -1.732807e-15    -4.399711e-15 -1.885897e-15 -4.881057e-16  2.644401\n",
       "std      1.000012e+00     1.000012e+00  1.000012e+00  1.000012e+00  1.866411"
      ]
     },
     "execution_count": 11,
     "metadata": {},
     "output_type": "execute_result"
    }
   ],
   "source": [
    "scaled_df.describe().ix[['mean', 'std']]"
   ]
  },
  {
   "cell_type": "markdown",
   "metadata": {},
   "source": [
    "### To get a good visual, plot it\n",
    "\n",
    "See that everything is just scaled down and shifted. The distribution is intact."
   ]
  },
  {
   "cell_type": "code",
   "execution_count": 10,
   "metadata": {
    "collapsed": false
   },
   "outputs": [
    {
     "data": {
      "image/png": "[encoded data removed]",
      "text/plain": [
       "<matplotlib.figure.Figure at 0x7fc47d350310>"
      ]
     },
     "metadata": {},
     "output_type": "display_data"
    },
    {
     "data": {
      "image/png": "[encoded data removed]",
      "text/plain": [
       "<matplotlib.figure.Figure at 0x7fc47d0c9dd0>"
      ]
     },
     "metadata": {},
     "output_type": "display_data"
    }
   ],
   "source": [
    "sns.distplot(data_df.AfterInhMATRIX5, kde=False)\n",
    "plt.title(\"Raw Data\")\n",
    "plt.show()\n",
    "sns.distplot(scaled_df.AfterInhMATRIX5, kde=False)\n",
    "plt.title(\"Scaled Data\")\n",
    "plt.show()"
   ]
  },
  {
   "cell_type": "markdown",
   "metadata": {},
   "source": [
    "### Rename for ease of use\n",
    "\n",
    "Now that we've robbed them of their real values, let's strip them of their real names."
   ]
  },
  {
   "cell_type": "code",
   "execution_count": 14,
   "metadata": {
    "collapsed": false
   },
   "outputs": [
    {
     "data": {
      "text/html": [
       "<div>\n",
       "<table border=\"1\" class=\"dataframe\">\n",
       "  <thead>\n",
       "    <tr style=\"text-align: right;\">\n",
       "      <th></th>\n",
       "      <th>f1</th>\n",
       "      <th>f2</th>\n",
       "      <th>f3</th>\n",
       "      <th>f4</th>\n",
       "      <th>label</th>\n",
       "    </tr>\n",
       "    <tr>\n",
       "      <th>eventID</th>\n",
       "      <th></th>\n",
       "      <th></th>\n",
       "      <th></th>\n",
       "      <th></th>\n",
       "      <th></th>\n",
       "    </tr>\n",
       "  </thead>\n",
       "  <tbody>\n",
       "    <tr>\n",
       "      <th>430001</th>\n",
       "      <td>-2.607248</td>\n",
       "      <td>-2.444682</td>\n",
       "      <td>-1.476104</td>\n",
       "      <td>-1.815155</td>\n",
       "      <td>2</td>\n",
       "    </tr>\n",
       "    <tr>\n",
       "      <th>430002</th>\n",
       "      <td>-2.027589</td>\n",
       "      <td>-2.091403</td>\n",
       "      <td>-1.331993</td>\n",
       "      <td>-0.384589</td>\n",
       "      <td>3</td>\n",
       "    </tr>\n",
       "    <tr>\n",
       "      <th>430003</th>\n",
       "      <td>-1.922453</td>\n",
       "      <td>-1.914763</td>\n",
       "      <td>-1.322052</td>\n",
       "      <td>-0.127767</td>\n",
       "      <td>3</td>\n",
       "    </tr>\n",
       "    <tr>\n",
       "      <th>430004</th>\n",
       "      <td>-2.087953</td>\n",
       "      <td>-2.091403</td>\n",
       "      <td>-1.398268</td>\n",
       "      <td>-0.722212</td>\n",
       "      <td>3</td>\n",
       "    </tr>\n",
       "    <tr>\n",
       "      <th>430005</th>\n",
       "      <td>-2.577919</td>\n",
       "      <td>-2.444682</td>\n",
       "      <td>-1.497809</td>\n",
       "      <td>-1.993804</td>\n",
       "      <td>4</td>\n",
       "    </tr>\n",
       "  </tbody>\n",
       "</table>\n",
       "</div>"
      ],
      "text/plain": [
       "               f1        f2        f3        f4  label\n",
       "eventID                                               \n",
       "430001  -2.607248 -2.444682 -1.476104 -1.815155      2\n",
       "430002  -2.027589 -2.091403 -1.331993 -0.384589      3\n",
       "430003  -1.922453 -1.914763 -1.322052 -0.127767      3\n",
       "430004  -2.087953 -2.091403 -1.398268 -0.722212      3\n",
       "430005  -2.577919 -2.444682 -1.497809 -1.993804      4"
      ]
     },
     "execution_count": 14,
     "metadata": {},
     "output_type": "execute_result"
    }
   ],
   "source": [
    "scaled_df.columns = ['f1', 'f2', 'f3', 'f4', 'label']\n",
    "scaled_df.head()"
   ]
  },
  {
   "cell_type": "markdown",
   "metadata": {},
   "source": [
    "## 3. Create some new features\n",
    "\n",
    "1. The difference between two or more features\n",
    "2. One feature scaled by another"
   ]
  },
  {
   "cell_type": "code",
   "execution_count": null,
   "metadata": {
    "collapsed": false
   },
   "outputs": [],
   "source": [
    "data_df['f2-f1'] = data_df['f2'] - data_df['f1']\n",
    "data_df['f3-f1'] = data_df['f3'] - data_df['f1']\n",
    "data_df['f4-f1'] = data_df['f4'] - data_df['f1']\n",
    "data_df['f3-f2'] = data_df['f3'] - data_df['f2']\n",
    "data_df['f4-f2'] = data_df['f4'] - data_df['f2']\n",
    "data_df['f4-f3'] = data_df['f4'] - data_df['f3']\n",
    "data_df.head()"
   ]
  },
  {
   "cell_type": "code",
   "execution_count": null,
   "metadata": {
    "collapsed": false
   },
   "outputs": [],
   "source": [
    "sns.violinplot(x='label', y='f2-f1', data=data_df)\n",
    "plt.show()\n",
    "sns.violinplot(x='label', y='f3-f1', data=data_df)\n",
    "plt.show()\n",
    "sns.violinplot(x='label', y='f4-f1', data=data_df)\n",
    "plt.show()\n",
    "sns.violinplot(x='label', y='f3-f2', data=data_df)\n",
    "plt.show()\n",
    "sns.violinplot(x='label', y='f4-f2', data=data_df)\n",
    "plt.show()\n",
    "sns.violinplot(x='label', y='f4-f3', data=data_df)\n",
    "plt.show()"
   ]
  },
  {
   "cell_type": "code",
   "execution_count": null,
   "metadata": {
    "collapsed": true
   },
   "outputs": [],
   "source": []
  }
 ],
 "metadata": {
  "kernelspec": {
   "display_name": "Python 2",
   "language": "python",
   "name": "python2"
  },
  "language_info": {
   "codemirror_mode": {
    "name": "ipython",
    "version": 2
   },
   "file_extension": ".py",
   "mimetype": "text/x-python",
   "name": "python",
   "nbconvert_exporter": "python",
   "pygments_lexer": "ipython2",
   "version": "2.7.10"
  }
 },
 "nbformat": 4,
 "nbformat_minor": 0
}
