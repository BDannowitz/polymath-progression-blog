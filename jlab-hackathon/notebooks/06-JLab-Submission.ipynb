{
 "cells": [
  {
   "cell_type": "markdown",
   "metadata": {},
   "source": [
    "# 06 - For JLab Submission\n",
    "\n",
    "* I was invited to send over my trained model for evaluation!\n",
    "* The model needs changing to be compliant with the rules\n",
    "\n",
    "> Submitted models will be\n",
    "loaded as-is from a single submitted HDF5 compatible with keras.models.load model(). The loaded model\n",
    "will then be fed a final set of data (TEST) that will conform to the formats outlined above. No post\n",
    "processing on the model’s output will be performed, meaning the models are expected to provide two\n",
    "real number outputs such that the first output has been trained to give θ and the second to give z.\n",
    "\n",
    "* Change model to give two outputs, not a single array\n",
    "* Output to HDF5 file compatible with `keras.models.load_model()`"
   ]
  },
  {
   "cell_type": "code",
   "execution_count": 1,
   "metadata": {},
   "outputs": [],
   "source": [
    "%matplotlib inline"
   ]
  },
  {
   "cell_type": "markdown",
   "metadata": {},
   "source": [
    "## Generator based on JLab Starter Code:"
   ]
  },
  {
   "cell_type": "code",
   "execution_count": 2,
   "metadata": {},
   "outputs": [],
   "source": [
    "import os\n",
    "import sys\n",
    "import gzip\n",
    "import pandas as pd\n",
    "import numpy as np\n",
    "import math\n",
    "\n",
    "width  = 36\n",
    "height = 100\n",
    "batch_size = 32\n",
    "\n",
    "train_df = pd.read_csv('../TRAIN/track_parms.csv')\n",
    "train_df = train_df.rename(columns={'phi': 'theta'})\n",
    "valid_df = pd.read_csv('../VALIDATION/track_parms.csv')\n",
    "valid_df = valid_df.rename(columns={'phi': 'theta'})\n",
    "STEP_SIZE_TRAIN = len(train_df)/batch_size\n",
    "STEP_SIZE_VALID = len(valid_df)/batch_size"
   ]
  },
  {
   "cell_type": "code",
   "execution_count": 3,
   "metadata": {},
   "outputs": [],
   "source": [
    "def generate_arrays_from_file(path, labels_df):\n",
    "\n",
    "    images_path = os.path.join(path, 'images.raw.gz')\n",
    "    print('Generator created for: {}'.format(images_path))\n",
    "\n",
    "    batch_input           = []\n",
    "    batch_labels_theta      = []\n",
    "    batch_labels_z        = []\n",
    "    idx = 0\n",
    "    ibatch = 0\n",
    "    while True:\n",
    "        with gzip.open(images_path) as f:\n",
    "            while True:\n",
    "            \n",
    "                # Read in one image\n",
    "                bytes = f.read(width*height)\n",
    "                if len(bytes) != (width*height): break # break into outer loop so we can re-open file\n",
    "                data = np.frombuffer(bytes, dtype='B', count=width*height)\n",
    "                pixels = np.reshape(data, [width, height, 1], order='F')\n",
    "                pixels_norm = np.transpose(pixels.astype(np.float) / 255., axes=(1, 0, 2) )\n",
    "                \n",
    "                # Labels\n",
    "                theta = labels_df.theta[idx]\n",
    "                z = labels_df.z[idx]\n",
    "                idx += 1\n",
    "\n",
    "                # Add to batch and check if it is time to yield\n",
    "                batch_input.append( pixels_norm )\n",
    "                batch_labels_theta.append(theta)\n",
    "                batch_labels_z.append( z )\n",
    "                if len(batch_input) == batch_size:\n",
    "                    ibatch += 1\n",
    "                    \n",
    "                    # Since we are training multiple loss functions we must\n",
    "                    # pass the labels back as a dictionary whose keys match\n",
    "                    # the layer their corresponding values are being applied\n",
    "                    # to.\n",
    "                    labels_dict = {\n",
    "                        'theta_output' :  np.array(batch_labels_theta),\n",
    "                        'z_output'   :  np.array(batch_labels_z),        \n",
    "                    }\n",
    "                    \n",
    "                    yield ( np.array(batch_input), labels_dict )\n",
    "                    batch_input      = []\n",
    "                    batch_labels_theta = []\n",
    "                    batch_labels_z   = []\n",
    "\n",
    "            idx = 0\n",
    "            f.close()"
   ]
  },
  {
   "cell_type": "code",
   "execution_count": 4,
   "metadata": {},
   "outputs": [],
   "source": [
    "train_generator = generate_arrays_from_file('../TRAIN', train_df)\n",
    "valid_generator = generate_arrays_from_file('../VALIDATION', valid_df)"
   ]
  },
  {
   "cell_type": "markdown",
   "metadata": {},
   "source": [
    "# Double Regression"
   ]
  },
  {
   "cell_type": "code",
   "execution_count": 5,
   "metadata": {},
   "outputs": [],
   "source": [
    "import tensorflow as tf"
   ]
  },
  {
   "cell_type": "code",
   "execution_count": 6,
   "metadata": {},
   "outputs": [],
   "source": [
    "def double_regression_model():\n",
    "    \n",
    "    image_input = tf.keras.Input(shape=(height, width, 1),\n",
    "                                 name='image_input')\n",
    "    \n",
    "    x = tf.keras.layers.Conv2D(8, (3, 3))(image_input)\n",
    "    x = tf.keras.layers.Activation(tf.nn.relu)(x)\n",
    "    x = tf.keras.layers.MaxPooling2D(pool_size=(2, 2))(x)\n",
    "    \n",
    "    x = tf.keras.layers.Conv2D(12, (3, 3))(x)\n",
    "    x = tf.keras.layers.Activation(tf.nn.relu)(x)\n",
    "    x = tf.keras.layers.MaxPooling2D(pool_size=(2, 2))(x)\n",
    "    \n",
    "    #### Theta branch\n",
    "    theta_branch = tf.keras.layers.Conv2D(16, (2, 2))(x)\n",
    "    theta_branch = tf.keras.layers.Activation(tf.nn.relu)(theta_branch)\n",
    "    theta_branch = tf.keras.layers.MaxPooling2D(pool_size=(2, 2))(theta_branch)\n",
    "    \n",
    "    theta_branch = tf.keras.layers.Conv2D(16, (3, 3))(theta_branch)\n",
    "    theta_branch = tf.keras.layers.Activation(tf.nn.relu)(theta_branch)\n",
    "    \n",
    "    theta_branch = tf.keras.layers.Flatten()(theta_branch)\n",
    "    \n",
    "    theta_branch = tf.keras.layers.Dense(16)(theta_branch)\n",
    "    theta_branch = tf.keras.layers.Activation(tf.nn.relu)(theta_branch)\n",
    "    theta_branch = tf.keras.layers.Dropout(0.5)(theta_branch)\n",
    "    output_theta = tf.keras.layers.Dense(1, activation='linear',\n",
    "                                         name='theta_output')(theta_branch)\n",
    "    ####\n",
    "    \n",
    "    #### Vertex branch\n",
    "    z_branch = tf.keras.layers.Conv2D(16, (2, 2))(x)\n",
    "    z_branch = tf.keras.layers.Activation(tf.nn.relu)(z_branch)\n",
    "    z_branch = tf.keras.layers.MaxPooling2D(pool_size=(2, 2))(z_branch)\n",
    "    \n",
    "    z_branch = tf.keras.layers.Conv2D(16, (3, 3))(z_branch)\n",
    "    z_branch = tf.keras.layers.Activation(tf.nn.relu)(z_branch)\n",
    "    \n",
    "    z_branch = tf.keras.layers.Flatten()(z_branch)\n",
    "    \n",
    "    z_branch = tf.keras.layers.Dense(16)(z_branch)\n",
    "    z_branch = tf.keras.layers.Activation(tf.nn.relu)(z_branch)\n",
    "    z_branch = tf.keras.layers.Dropout(0.5)(z_branch)\n",
    "    output_z = tf.keras.layers.Dense(1, activation='linear',\n",
    "                                     name='z_output')(z_branch)\n",
    "    ####\n",
    "    \n",
    "    model = tf.keras.Model(inputs=image_input, outputs=[output_theta, output_z])\n",
    "    \n",
    "    model.compile(\n",
    "        optimizer='adam', \n",
    "        loss={\n",
    "            'theta_output': 'mean_squared_error',\n",
    "            'z_output': 'mean_squared_error'\n",
    "        },\n",
    "        metrics=['mse']\n",
    "    )\n",
    "    \n",
    "    return model"
   ]
  },
  {
   "cell_type": "code",
   "execution_count": 7,
   "metadata": {},
   "outputs": [],
   "source": [
    "model = double_regression_model()"
   ]
  },
  {
   "cell_type": "code",
   "execution_count": 8,
   "metadata": {},
   "outputs": [
    {
     "name": "stdout",
     "output_type": "stream",
     "text": [
      "Model: \"model\"\n",
      "__________________________________________________________________________________________________\n",
      "Layer (type)                    Output Shape         Param #     Connected to                     \n",
      "==================================================================================================\n",
      "image_input (InputLayer)        [(None, 100, 36, 1)] 0                                            \n",
      "__________________________________________________________________________________________________\n",
      "conv2d (Conv2D)                 (None, 98, 34, 8)    80          image_input[0][0]                \n",
      "__________________________________________________________________________________________________\n",
      "activation (Activation)         (None, 98, 34, 8)    0           conv2d[0][0]                     \n",
      "__________________________________________________________________________________________________\n",
      "max_pooling2d (MaxPooling2D)    (None, 49, 17, 8)    0           activation[0][0]                 \n",
      "__________________________________________________________________________________________________\n",
      "conv2d_1 (Conv2D)               (None, 47, 15, 12)   876         max_pooling2d[0][0]              \n",
      "__________________________________________________________________________________________________\n",
      "activation_1 (Activation)       (None, 47, 15, 12)   0           conv2d_1[0][0]                   \n",
      "__________________________________________________________________________________________________\n",
      "max_pooling2d_1 (MaxPooling2D)  (None, 23, 7, 12)    0           activation_1[0][0]               \n",
      "__________________________________________________________________________________________________\n",
      "conv2d_2 (Conv2D)               (None, 22, 6, 16)    784         max_pooling2d_1[0][0]            \n",
      "__________________________________________________________________________________________________\n",
      "conv2d_4 (Conv2D)               (None, 22, 6, 16)    784         max_pooling2d_1[0][0]            \n",
      "__________________________________________________________________________________________________\n",
      "activation_2 (Activation)       (None, 22, 6, 16)    0           conv2d_2[0][0]                   \n",
      "__________________________________________________________________________________________________\n",
      "activation_5 (Activation)       (None, 22, 6, 16)    0           conv2d_4[0][0]                   \n",
      "__________________________________________________________________________________________________\n",
      "max_pooling2d_2 (MaxPooling2D)  (None, 11, 3, 16)    0           activation_2[0][0]               \n",
      "__________________________________________________________________________________________________\n",
      "max_pooling2d_3 (MaxPooling2D)  (None, 11, 3, 16)    0           activation_5[0][0]               \n",
      "__________________________________________________________________________________________________\n",
      "conv2d_3 (Conv2D)               (None, 9, 1, 16)     2320        max_pooling2d_2[0][0]            \n",
      "__________________________________________________________________________________________________\n",
      "conv2d_5 (Conv2D)               (None, 9, 1, 16)     2320        max_pooling2d_3[0][0]            \n",
      "__________________________________________________________________________________________________\n",
      "activation_3 (Activation)       (None, 9, 1, 16)     0           conv2d_3[0][0]                   \n",
      "__________________________________________________________________________________________________\n",
      "activation_6 (Activation)       (None, 9, 1, 16)     0           conv2d_5[0][0]                   \n",
      "__________________________________________________________________________________________________\n",
      "flatten (Flatten)               (None, 144)          0           activation_3[0][0]               \n",
      "__________________________________________________________________________________________________\n",
      "flatten_1 (Flatten)             (None, 144)          0           activation_6[0][0]               \n",
      "__________________________________________________________________________________________________\n",
      "dense (Dense)                   (None, 16)           2320        flatten[0][0]                    \n",
      "__________________________________________________________________________________________________\n",
      "dense_1 (Dense)                 (None, 16)           2320        flatten_1[0][0]                  \n",
      "__________________________________________________________________________________________________\n",
      "activation_4 (Activation)       (None, 16)           0           dense[0][0]                      \n",
      "__________________________________________________________________________________________________\n",
      "activation_7 (Activation)       (None, 16)           0           dense_1[0][0]                    \n",
      "__________________________________________________________________________________________________\n",
      "dropout (Dropout)               (None, 16)           0           activation_4[0][0]               \n",
      "__________________________________________________________________________________________________\n",
      "dropout_1 (Dropout)             (None, 16)           0           activation_7[0][0]               \n",
      "__________________________________________________________________________________________________\n",
      "theta_output (Dense)            (None, 1)            17          dropout[0][0]                    \n",
      "__________________________________________________________________________________________________\n",
      "z_output (Dense)                (None, 1)            17          dropout_1[0][0]                  \n",
      "==================================================================================================\n",
      "Total params: 11,838\n",
      "Trainable params: 11,838\n",
      "Non-trainable params: 0\n",
      "__________________________________________________________________________________________________\n"
     ]
    }
   ],
   "source": [
    "model.summary()"
   ]
  },
  {
   "cell_type": "code",
   "execution_count": 41,
   "metadata": {},
   "outputs": [
    {
     "name": "stdout",
     "output_type": "stream",
     "text": [
      "Epoch 7/15\n",
      "15625/15625 [==============================] - 448s 29ms/step - loss: 6.9284 - theta_output_loss: 4.0132 - z_output_loss: 2.9152 - theta_output_mse: 4.0132 - z_output_mse: 2.9152 - val_loss: 1.9552 - val_theta_output_loss: 0.4385 - val_z_output_loss: 1.5161 - val_theta_output_mse: 0.4385 - val_z_output_mse: 1.5161\n",
      "Epoch 8/15\n",
      "15625/15625 [==============================] - 455s 29ms/step - loss: 6.8516 - theta_output_loss: 3.9992 - z_output_loss: 2.8525 - theta_output_mse: 3.9992 - z_output_mse: 2.8525 - val_loss: 2.4419 - val_theta_output_loss: 0.6680 - val_z_output_loss: 1.7732 - val_theta_output_mse: 0.6680 - val_z_output_mse: 1.7732\n",
      "Epoch 9/15\n",
      "15625/15625 [==============================] - 433s 28ms/step - loss: 6.7803 - theta_output_loss: 3.9888 - z_output_loss: 2.7915 - theta_output_mse: 3.9888 - z_output_mse: 2.7915 - val_loss: 1.2448 - val_theta_output_loss: 0.3232 - val_z_output_loss: 0.9212 - val_theta_output_mse: 0.3232 - val_z_output_mse: 0.9212\n",
      "Epoch 10/15\n",
      "15625/15625 [==============================] - 432s 28ms/step - loss: 6.7656 - theta_output_loss: 4.0071 - z_output_loss: 2.7585 - theta_output_mse: 4.0071 - z_output_mse: 2.7585 - val_loss: 1.3460 - val_theta_output_loss: 0.3002 - val_z_output_loss: 1.0454 - val_theta_output_mse: 0.3002 - val_z_output_mse: 1.0454\n",
      "Epoch 11/15\n",
      "15625/15625 [==============================] - 418s 27ms/step - loss: 6.7311 - theta_output_loss: 4.0082 - z_output_loss: 2.7229 - theta_output_mse: 4.0082 - z_output_mse: 2.7229 - val_loss: 1.2865 - val_theta_output_loss: 0.3302 - val_z_output_loss: 0.9559 - val_theta_output_mse: 0.3302 - val_z_output_mse: 0.9559\n",
      "Epoch 12/15\n",
      "15625/15625 [==============================] - 2556s 164ms/step - loss: 6.7052 - theta_output_loss: 3.9940 - z_output_loss: 2.7113 - theta_output_mse: 3.9940 - z_output_mse: 2.7113 - val_loss: 1.3508 - val_theta_output_loss: 0.6030 - val_z_output_loss: 0.7474 - val_theta_output_mse: 0.6030 - val_z_output_mse: 0.7474\n",
      "Epoch 13/15\n",
      "15625/15625 [==============================] - 453s 29ms/step - loss: 6.7004 - theta_output_loss: 4.0082 - z_output_loss: 2.6922 - theta_output_mse: 4.0082 - z_output_mse: 2.6922 - val_loss: 1.4909 - val_theta_output_loss: 0.4568 - val_z_output_loss: 1.0336 - val_theta_output_mse: 0.4568 - val_z_output_mse: 1.0336\n",
      "Epoch 14/15\n",
      "15625/15625 [==============================] - 453s 29ms/step - loss: 6.6691 - theta_output_loss: 3.9935 - z_output_loss: 2.6756 - theta_output_mse: 3.9935 - z_output_mse: 2.6756 - val_loss: 1.3717 - val_theta_output_loss: 0.5179 - val_z_output_loss: 0.8533 - val_theta_output_mse: 0.5179 - val_z_output_mse: 0.8533\n",
      "Epoch 15/15\n",
      "15625/15625 [==============================] - 443s 28ms/step - loss: 6.6506 - theta_output_loss: 3.9874 - z_output_loss: 2.6632 - theta_output_mse: 3.9874 - z_output_mse: 2.6632 - val_loss: 1.4680 - val_theta_output_loss: 0.6629 - val_z_output_loss: 0.8046 - val_theta_output_mse: 0.6629 - val_z_output_mse: 0.8046\n"
     ]
    }
   ],
   "source": [
    "history = model.fit_generator(\n",
    "    generator=train_generator,\n",
    "    steps_per_epoch=STEP_SIZE_TRAIN,\n",
    "    validation_data=valid_generator,\n",
    "    validation_steps=STEP_SIZE_VALID,\n",
    "    epochs=15,\n",
    "    initial_epoch=6,\n",
    ")"
   ]
  },
  {
   "cell_type": "markdown",
   "metadata": {},
   "source": [
    "## Output the trained model"
   ]
  },
  {
   "cell_type": "code",
   "execution_count": 45,
   "metadata": {},
   "outputs": [],
   "source": [
    "model.save('jlab_submission.h5')"
   ]
  },
  {
   "cell_type": "code",
   "execution_count": 46,
   "metadata": {},
   "outputs": [],
   "source": [
    "model.save_weights('jlab_submission_weights.h5')"
   ]
  },
  {
   "cell_type": "markdown",
   "metadata": {},
   "source": [
    "## Visualizations, Evaluation"
   ]
  },
  {
   "cell_type": "code",
   "execution_count": 47,
   "metadata": {},
   "outputs": [
    {
     "name": "stdout",
     "output_type": "stream",
     "text": [
      "Generator created for: ../VALIDATION/images.raw.gz\n"
     ]
    }
   ],
   "source": [
    "valid_generator = generate_arrays_from_file('../VALIDATION', valid_df)\n",
    "y_pred = model.predict_generator(valid_generator, steps=STEP_SIZE_VALID)"
   ]
  },
  {
   "cell_type": "code",
   "execution_count": 48,
   "metadata": {},
   "outputs": [],
   "source": [
    "valid_df['theta_pred'] = y_pred[0][:50000]"
   ]
  },
  {
   "cell_type": "code",
   "execution_count": 49,
   "metadata": {},
   "outputs": [],
   "source": [
    "import matplotlib.pyplot as plt"
   ]
  },
  {
   "cell_type": "code",
   "execution_count": 50,
   "metadata": {},
   "outputs": [
    {
     "data": {
      "text/plain": [
       "(array([4654., 5704., 4309., 4520., 5211., 5037., 5220., 5146., 5655.,\n",
       "        4560.]),\n",
       " array([-8.753129  , -7.0206075 , -5.2880864 , -3.5555649 , -1.8230436 ,\n",
       "        -0.09052229,  1.641999  ,  3.3745203 ,  5.107042  ,  6.839563  ,\n",
       "         8.572084  ], dtype=float32),\n",
       " <a list of 10 Patch objects>)"
      ]
     },
     "execution_count": 50,
     "metadata": {},
     "output_type": "execute_result"
    },
    {
     "data": {
      "image/png": "[encoded data removed]",
      "text/plain": [
       "<Figure size 432x288 with 1 Axes>"
      ]
     },
     "metadata": {
      "needs_background": "light"
     },
     "output_type": "display_data"
    }
   ],
   "source": [
    "plt.hist(y_pred[0])"
   ]
  },
  {
   "cell_type": "code",
   "execution_count": 51,
   "metadata": {},
   "outputs": [],
   "source": [
    "valid_df = valid_df.eval('d_theta = theta - theta_pred')"
   ]
  },
  {
   "cell_type": "code",
   "execution_count": 52,
   "metadata": {},
   "outputs": [
    {
     "data": {
      "text/plain": [
       "<matplotlib.axes._subplots.AxesSubplot at 0x63cd2bfd0>"
      ]
     },
     "execution_count": 52,
     "metadata": {},
     "output_type": "execute_result"
    },
    {
     "data": {
      "image/png": "[encoded data removed]",
      "text/plain": [
       "<Figure size 432x288 with 1 Axes>"
      ]
     },
     "metadata": {
      "needs_background": "light"
     },
     "output_type": "display_data"
    }
   ],
   "source": [
    "valid_df.d_theta.hist()"
   ]
  },
  {
   "cell_type": "markdown",
   "metadata": {},
   "source": [
    "## Train the original approach\n",
    "\n",
    "* Has many more hyperparameters"
   ]
  },
  {
   "cell_type": "code",
   "execution_count": 63,
   "metadata": {},
   "outputs": [],
   "source": [
    "def original_double_regression_model():\n",
    "    \n",
    "    image_input = tf.keras.Input(shape=(height, width, 1),\n",
    "                                 name='image_input')\n",
    "    \n",
    "    x = tf.keras.layers.Conv2D(32, (3, 3), activation='relu')(image_input)\n",
    "    x = tf.keras.layers.BatchNormalization()(x)\n",
    "    x = tf.keras.layers.MaxPooling2D(pool_size=(2, 2))(x)\n",
    "    \n",
    "    def branch(input_layer, output_name):\n",
    "        y = tf.keras.layers.Conv2D(32, (3, 3), activation='relu')(input_layer)\n",
    "        y = tf.keras.layers.BatchNormalization()(y)\n",
    "        y = tf.keras.layers.MaxPooling2D(pool_size=(2, 2))(y)\n",
    "\n",
    "        y = tf.keras.layers.Conv2D(64, (3, 3), activation='relu')(y)\n",
    "        y = tf.keras.layers.BatchNormalization()(y)\n",
    "        y = tf.keras.layers.MaxPooling2D(pool_size=(2, 2))(y)\n",
    "        \n",
    "        y = tf.keras.layers.Flatten()(y)\n",
    "        y = tf.keras.layers.Dense(64, activation='relu')(y)\n",
    "        y = tf.keras.layers.BatchNormalization()(y)\n",
    "        y = tf.keras.layers.Dropout(0.5)(y)\n",
    "        output = tf.keras.layers.Dense(\n",
    "            1, activation='linear',\n",
    "            name=output_name\n",
    "        )(y)\n",
    "        return output\n",
    "    \n",
    "    theta_output = branch(x, 'theta_output')\n",
    "    z_output = branch(x, 'z_output')\n",
    "    \n",
    "    model = tf.keras.Model(inputs=image_input, outputs=[theta_output, z_output])\n",
    "    \n",
    "    model.compile(\n",
    "        optimizer='adam', \n",
    "        loss={\n",
    "            'theta_output': 'mean_squared_error',\n",
    "            'z_output': 'mean_squared_error'\n",
    "        }\n",
    "    )\n",
    "    \n",
    "    return model"
   ]
  },
  {
   "cell_type": "code",
   "execution_count": 64,
   "metadata": {},
   "outputs": [
    {
     "name": "stdout",
     "output_type": "stream",
     "text": [
      "Model: \"model_2\"\n",
      "__________________________________________________________________________________________________\n",
      "Layer (type)                    Output Shape         Param #     Connected to                     \n",
      "==================================================================================================\n",
      "image_input (InputLayer)        [(None, 100, 36, 1)] 0                                            \n",
      "__________________________________________________________________________________________________\n",
      "conv2d_23 (Conv2D)              (None, 98, 34, 32)   320         image_input[0][0]                \n",
      "__________________________________________________________________________________________________\n",
      "batch_normalization_11 (BatchNo (None, 98, 34, 32)   128         conv2d_23[0][0]                  \n",
      "__________________________________________________________________________________________________\n",
      "max_pooling2d_21 (MaxPooling2D) (None, 49, 17, 32)   0           batch_normalization_11[0][0]     \n",
      "__________________________________________________________________________________________________\n",
      "conv2d_24 (Conv2D)              (None, 47, 15, 32)   9248        max_pooling2d_21[0][0]           \n",
      "__________________________________________________________________________________________________\n",
      "conv2d_26 (Conv2D)              (None, 47, 15, 32)   9248        max_pooling2d_21[0][0]           \n",
      "__________________________________________________________________________________________________\n",
      "batch_normalization_12 (BatchNo (None, 47, 15, 32)   128         conv2d_24[0][0]                  \n",
      "__________________________________________________________________________________________________\n",
      "batch_normalization_15 (BatchNo (None, 47, 15, 32)   128         conv2d_26[0][0]                  \n",
      "__________________________________________________________________________________________________\n",
      "max_pooling2d_22 (MaxPooling2D) (None, 23, 7, 32)    0           batch_normalization_12[0][0]     \n",
      "__________________________________________________________________________________________________\n",
      "max_pooling2d_24 (MaxPooling2D) (None, 23, 7, 32)    0           batch_normalization_15[0][0]     \n",
      "__________________________________________________________________________________________________\n",
      "conv2d_25 (Conv2D)              (None, 21, 5, 64)    18496       max_pooling2d_22[0][0]           \n",
      "__________________________________________________________________________________________________\n",
      "conv2d_27 (Conv2D)              (None, 21, 5, 64)    18496       max_pooling2d_24[0][0]           \n",
      "__________________________________________________________________________________________________\n",
      "batch_normalization_13 (BatchNo (None, 21, 5, 64)    256         conv2d_25[0][0]                  \n",
      "__________________________________________________________________________________________________\n",
      "batch_normalization_16 (BatchNo (None, 21, 5, 64)    256         conv2d_27[0][0]                  \n",
      "__________________________________________________________________________________________________\n",
      "max_pooling2d_23 (MaxPooling2D) (None, 10, 2, 64)    0           batch_normalization_13[0][0]     \n",
      "__________________________________________________________________________________________________\n",
      "max_pooling2d_25 (MaxPooling2D) (None, 10, 2, 64)    0           batch_normalization_16[0][0]     \n",
      "__________________________________________________________________________________________________\n",
      "flatten_11 (Flatten)            (None, 1280)         0           max_pooling2d_23[0][0]           \n",
      "__________________________________________________________________________________________________\n",
      "flatten_12 (Flatten)            (None, 1280)         0           max_pooling2d_25[0][0]           \n",
      "__________________________________________________________________________________________________\n",
      "dense_9 (Dense)                 (None, 64)           81984       flatten_11[0][0]                 \n",
      "__________________________________________________________________________________________________\n",
      "dense_10 (Dense)                (None, 64)           81984       flatten_12[0][0]                 \n",
      "__________________________________________________________________________________________________\n",
      "batch_normalization_14 (BatchNo (None, 64)           256         dense_9[0][0]                    \n",
      "__________________________________________________________________________________________________\n",
      "batch_normalization_17 (BatchNo (None, 64)           256         dense_10[0][0]                   \n",
      "__________________________________________________________________________________________________\n",
      "dropout_9 (Dropout)             (None, 64)           0           batch_normalization_14[0][0]     \n",
      "__________________________________________________________________________________________________\n",
      "dropout_10 (Dropout)            (None, 64)           0           batch_normalization_17[0][0]     \n",
      "__________________________________________________________________________________________________\n",
      "theta_output (Dense)            (None, 1)            65          dropout_9[0][0]                  \n",
      "__________________________________________________________________________________________________\n",
      "z_output (Dense)                (None, 1)            65          dropout_10[0][0]                 \n",
      "==================================================================================================\n",
      "Total params: 221,314\n",
      "Trainable params: 220,610\n",
      "Non-trainable params: 704\n",
      "__________________________________________________________________________________________________\n"
     ]
    }
   ],
   "source": [
    "original_model = original_double_regression_model()\n",
    "original_model.summary()"
   ]
  },
  {
   "cell_type": "code",
   "execution_count": 65,
   "metadata": {},
   "outputs": [],
   "source": [
    "train_generator = generate_arrays_from_file('../TRAIN', train_df)\n",
    "valid_generator = generate_arrays_from_file('../VALIDATION', valid_df)"
   ]
  },
  {
   "cell_type": "code",
   "execution_count": 69,
   "metadata": {},
   "outputs": [
    {
     "name": "stdout",
     "output_type": "stream",
     "text": [
      "Epoch 6/7\n",
      "15625/15625 [==============================] - 2982s 191ms/step - loss: 3.1132 - theta_output_loss: 1.6800 - z_output_loss: 1.4332 - val_loss: 0.5874 - val_theta_output_loss: 0.0724 - val_z_output_loss: 0.5148\n",
      "Epoch 7/7\n",
      "15625/15625 [==============================] - 3238s 207ms/step - loss: 3.0813 - theta_output_loss: 1.6700 - z_output_loss: 1.4113 - val_loss: 0.5998 - val_theta_output_loss: 0.1260 - val_z_output_loss: 0.4736\n"
     ]
    }
   ],
   "source": [
    "original_history = original_model.fit_generator(\n",
    "    generator=train_generator,\n",
    "    steps_per_epoch=STEP_SIZE_TRAIN,\n",
    "    validation_data=valid_generator,\n",
    "    validation_steps=STEP_SIZE_VALID,\n",
    "    epochs=7,\n",
    "    initial_epoch=5    \n",
    ")"
   ]
  },
  {
   "cell_type": "code",
   "execution_count": 75,
   "metadata": {},
   "outputs": [
    {
     "data": {
      "text/plain": [
       "dict_keys(['loss', 'theta_output_loss', 'z_output_loss', 'val_loss', 'val_theta_output_loss', 'val_z_output_loss'])"
      ]
     },
     "execution_count": 75,
     "metadata": {},
     "output_type": "execute_result"
    }
   ],
   "source": [
    "original_history.history.keys()"
   ]
  },
  {
   "cell_type": "code",
   "execution_count": 76,
   "metadata": {},
   "outputs": [
    {
     "data": {
      "image/png": "[encoded data removed]",
      "text/plain": [
       "<Figure size 432x288 with 1 Axes>"
      ]
     },
     "metadata": {
      "needs_background": "light"
     },
     "output_type": "display_data"
    }
   ],
   "source": [
    "plt.plot(original_history.history['z_output_loss'], label=\"Train z-vertex MSE\")\n",
    "plt.plot(original_history.history['val_z_output_loss'], label=\"Validation z-vertex MSE\")\n",
    "plt.legend()\n",
    "plt.show()\n"
   ]
  },
  {
   "cell_type": "code",
   "execution_count": 78,
   "metadata": {},
   "outputs": [],
   "source": [
    "original_model.save('../models/jlab_submission.h5')"
   ]
  },
  {
   "cell_type": "code",
   "execution_count": 79,
   "metadata": {},
   "outputs": [
    {
     "name": "stderr",
     "output_type": "stream",
     "text": [
      "Using TensorFlow backend.\n"
     ]
    }
   ],
   "source": [
    "import keras"
   ]
  },
  {
   "cell_type": "code",
   "execution_count": 81,
   "metadata": {},
   "outputs": [],
   "source": [
    "reloaded_model = tf.keras.models.load_model('../models/jlab_submission.h5')"
   ]
  },
  {
   "cell_type": "code",
   "execution_count": null,
   "metadata": {},
   "outputs": [],
   "source": []
  }
 ],
 "metadata": {
  "kernelspec": {
   "display_name": "Python 3",
   "language": "python",
   "name": "python3"
  },
  "language_info": {
   "codemirror_mode": {
    "name": "ipython",
    "version": 3
   },
   "file_extension": ".py",
   "mimetype": "text/x-python",
   "name": "python",
   "nbconvert_exporter": "python",
   "pygments_lexer": "ipython3",
   "version": "3.7.3"
  }
 },
 "nbformat": 4,
 "nbformat_minor": 4
}
