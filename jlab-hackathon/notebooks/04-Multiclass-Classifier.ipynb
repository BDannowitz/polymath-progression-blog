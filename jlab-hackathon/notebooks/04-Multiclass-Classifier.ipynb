{
 "cells": [
  {
   "cell_type": "markdown",
   "metadata": {},
   "source": [
    "# Multi-Class Classifier on Particle Track Data"
   ]
  },
  {
   "cell_type": "code",
   "execution_count": 1,
   "metadata": {},
   "outputs": [],
   "source": [
    "%matplotlib inline"
   ]
  },
  {
   "cell_type": "code",
   "execution_count": 2,
   "metadata": {},
   "outputs": [],
   "source": [
    "import pandas as pd\n",
    "import matplotlib.pyplot as plt\n",
    "import os\n",
    "import sys\n",
    "import numpy as np\n",
    "import math"
   ]
  },
  {
   "cell_type": "markdown",
   "metadata": {},
   "source": [
    "## Get angle values and cast to boolean"
   ]
  },
  {
   "cell_type": "code",
   "execution_count": 3,
   "metadata": {},
   "outputs": [],
   "source": [
    "track_params = pd.read_csv('../TRAIN/track_parms.csv')"
   ]
  },
  {
   "cell_type": "code",
   "execution_count": 4,
   "metadata": {},
   "outputs": [
    {
     "data": {
      "text/html": [
       "<div>\n",
       "<style scoped>\n",
       "    .dataframe tbody tr th:only-of-type {\n",
       "        vertical-align: middle;\n",
       "    }\n",
       "\n",
       "    .dataframe tbody tr th {\n",
       "        vertical-align: top;\n",
       "    }\n",
       "\n",
       "    .dataframe thead th {\n",
       "        text-align: right;\n",
       "    }\n",
       "</style>\n",
       "<table border=\"1\" class=\"dataframe\">\n",
       "  <thead>\n",
       "    <tr style=\"text-align: right;\">\n",
       "      <th></th>\n",
       "      <th>filename</th>\n",
       "      <th>phi</th>\n",
       "      <th>z</th>\n",
       "      <th>phi_calc</th>\n",
       "      <th>phi_regression</th>\n",
       "      <th>sigma_regression</th>\n",
       "    </tr>\n",
       "  </thead>\n",
       "  <tbody>\n",
       "    <tr>\n",
       "      <th>499995</th>\n",
       "      <td>img499995.png</td>\n",
       "      <td>-4.509653</td>\n",
       "      <td>0.968584</td>\n",
       "      <td>-4.494071</td>\n",
       "      <td>-4.494040</td>\n",
       "      <td>0.014105</td>\n",
       "    </tr>\n",
       "    <tr>\n",
       "      <th>499996</th>\n",
       "      <td>img499996.png</td>\n",
       "      <td>-1.595661</td>\n",
       "      <td>-7.397094</td>\n",
       "      <td>-1.645501</td>\n",
       "      <td>-1.645483</td>\n",
       "      <td>0.014181</td>\n",
       "    </tr>\n",
       "    <tr>\n",
       "      <th>499997</th>\n",
       "      <td>img499997.png</td>\n",
       "      <td>7.695264</td>\n",
       "      <td>-2.984060</td>\n",
       "      <td>7.799254</td>\n",
       "      <td>7.799186</td>\n",
       "      <td>0.013931</td>\n",
       "    </tr>\n",
       "    <tr>\n",
       "      <th>499998</th>\n",
       "      <td>img499998.png</td>\n",
       "      <td>-1.898667</td>\n",
       "      <td>5.082713</td>\n",
       "      <td>-1.880849</td>\n",
       "      <td>-1.880834</td>\n",
       "      <td>0.014177</td>\n",
       "    </tr>\n",
       "    <tr>\n",
       "      <th>499999</th>\n",
       "      <td>img499999.png</td>\n",
       "      <td>4.275843</td>\n",
       "      <td>-2.266920</td>\n",
       "      <td>4.324348</td>\n",
       "      <td>4.324317</td>\n",
       "      <td>0.014112</td>\n",
       "    </tr>\n",
       "  </tbody>\n",
       "</table>\n",
       "</div>"
      ],
      "text/plain": [
       "             filename       phi         z  phi_calc  phi_regression  \\\n",
       "499995  img499995.png -4.509653  0.968584 -4.494071       -4.494040   \n",
       "499996  img499996.png -1.595661 -7.397094 -1.645501       -1.645483   \n",
       "499997  img499997.png  7.695264 -2.984060  7.799254        7.799186   \n",
       "499998  img499998.png -1.898667  5.082713 -1.880849       -1.880834   \n",
       "499999  img499999.png  4.275843 -2.266920  4.324348        4.324317   \n",
       "\n",
       "        sigma_regression  \n",
       "499995          0.014105  \n",
       "499996          0.014181  \n",
       "499997          0.013931  \n",
       "499998          0.014177  \n",
       "499999          0.014112  "
      ]
     },
     "execution_count": 4,
     "metadata": {},
     "output_type": "execute_result"
    }
   ],
   "source": [
    "track_params.tail()"
   ]
  },
  {
   "cell_type": "markdown",
   "metadata": {},
   "source": [
    "## Create our simple classification target"
   ]
  },
  {
   "cell_type": "code",
   "execution_count": 21,
   "metadata": {},
   "outputs": [],
   "source": [
    "# Bin the phi values to get multi-class labels\n",
    "track_params['phi_binned'], phi_bins = pd.cut(track_params.phi,\n",
    "                                              bins=range(-10, 12, 2),\n",
    "                                              retbins=True)\n",
    "track_params['phi_binned'] = track_params['phi_binned'].astype(str)"
   ]
  },
  {
   "cell_type": "code",
   "execution_count": 22,
   "metadata": {},
   "outputs": [
    {
     "data": {
      "text/html": [
       "<div>\n",
       "<style scoped>\n",
       "    .dataframe tbody tr th:only-of-type {\n",
       "        vertical-align: middle;\n",
       "    }\n",
       "\n",
       "    .dataframe tbody tr th {\n",
       "        vertical-align: top;\n",
       "    }\n",
       "\n",
       "    .dataframe thead th {\n",
       "        text-align: right;\n",
       "    }\n",
       "</style>\n",
       "<table border=\"1\" class=\"dataframe\">\n",
       "  <thead>\n",
       "    <tr style=\"text-align: right;\">\n",
       "      <th></th>\n",
       "      <th>filename</th>\n",
       "      <th>phi</th>\n",
       "      <th>z</th>\n",
       "      <th>phi_calc</th>\n",
       "      <th>phi_regression</th>\n",
       "      <th>sigma_regression</th>\n",
       "      <th>phi_binned</th>\n",
       "    </tr>\n",
       "  </thead>\n",
       "  <tbody>\n",
       "    <tr>\n",
       "      <th>0</th>\n",
       "      <td>img000000.png</td>\n",
       "      <td>-0.195900</td>\n",
       "      <td>-5.164839</td>\n",
       "      <td>-0.206930</td>\n",
       "      <td>-0.206928</td>\n",
       "      <td>0.014192</td>\n",
       "      <td>(-2, 0]</td>\n",
       "    </tr>\n",
       "    <tr>\n",
       "      <th>1</th>\n",
       "      <td>img000001.png</td>\n",
       "      <td>-1.473349</td>\n",
       "      <td>5.784543</td>\n",
       "      <td>-1.409622</td>\n",
       "      <td>-1.409614</td>\n",
       "      <td>0.014184</td>\n",
       "      <td>(-2, 0]</td>\n",
       "    </tr>\n",
       "    <tr>\n",
       "      <th>2</th>\n",
       "      <td>img000002.png</td>\n",
       "      <td>9.206585</td>\n",
       "      <td>-2.295192</td>\n",
       "      <td>9.296442</td>\n",
       "      <td>9.296330</td>\n",
       "      <td>0.016293</td>\n",
       "      <td>(8, 10]</td>\n",
       "    </tr>\n",
       "    <tr>\n",
       "      <th>3</th>\n",
       "      <td>img000003.png</td>\n",
       "      <td>5.378890</td>\n",
       "      <td>4.685070</td>\n",
       "      <td>5.281532</td>\n",
       "      <td>5.281474</td>\n",
       "      <td>0.014072</td>\n",
       "      <td>(4, 6]</td>\n",
       "    </tr>\n",
       "    <tr>\n",
       "      <th>4</th>\n",
       "      <td>img000004.png</td>\n",
       "      <td>-6.700401</td>\n",
       "      <td>-0.851756</td>\n",
       "      <td>-6.739551</td>\n",
       "      <td>-6.739504</td>\n",
       "      <td>0.013997</td>\n",
       "      <td>(-8, -6]</td>\n",
       "    </tr>\n",
       "  </tbody>\n",
       "</table>\n",
       "</div>"
      ],
      "text/plain": [
       "        filename       phi         z  phi_calc  phi_regression  \\\n",
       "0  img000000.png -0.195900 -5.164839 -0.206930       -0.206928   \n",
       "1  img000001.png -1.473349  5.784543 -1.409622       -1.409614   \n",
       "2  img000002.png  9.206585 -2.295192  9.296442        9.296330   \n",
       "3  img000003.png  5.378890  4.685070  5.281532        5.281474   \n",
       "4  img000004.png -6.700401 -0.851756 -6.739551       -6.739504   \n",
       "\n",
       "   sigma_regression phi_binned  \n",
       "0          0.014192    (-2, 0]  \n",
       "1          0.014184    (-2, 0]  \n",
       "2          0.016293    (8, 10]  \n",
       "3          0.014072     (4, 6]  \n",
       "4          0.013997   (-8, -6]  "
      ]
     },
     "execution_count": 22,
     "metadata": {},
     "output_type": "execute_result"
    }
   ],
   "source": [
    "track_params.head()"
   ]
  },
  {
   "cell_type": "markdown",
   "metadata": {},
   "source": [
    "## Create an image generator from this dataframe"
   ]
  },
  {
   "cell_type": "code",
   "execution_count": 23,
   "metadata": {},
   "outputs": [],
   "source": [
    "from tensorflow.keras.preprocessing.image import ImageDataGenerator"
   ]
  },
  {
   "cell_type": "code",
   "execution_count": 24,
   "metadata": {},
   "outputs": [],
   "source": [
    "DATAGEN = ImageDataGenerator(rescale=1./255.,\n",
    "                             validation_split=0.25)"
   ]
  },
  {
   "cell_type": "code",
   "execution_count": 25,
   "metadata": {},
   "outputs": [],
   "source": [
    "height = 100\n",
    "width = 36\n",
    "\n",
    "def create_generator(target, subset, class_mode,\n",
    "                     idg=DATAGEN, df=track_params, N=1000):\n",
    "    \n",
    "    return idg.flow_from_dataframe(\n",
    "        dataframe=track_params.head(N),\n",
    "        directory=\"../TRAIN\",\n",
    "        x_col=\"filename\",\n",
    "        y_col=target,\n",
    "        subset=subset,\n",
    "        target_size=(height, width),\n",
    "        batch_size=32,\n",
    "        seed=314,\n",
    "        shuffle=True,\n",
    "        class_mode=class_mode,\n",
    "    )"
   ]
  },
  {
   "cell_type": "markdown",
   "metadata": {},
   "source": [
    "## Create a very simple convolutional model from scratch"
   ]
  },
  {
   "cell_type": "code",
   "execution_count": 26,
   "metadata": {},
   "outputs": [],
   "source": [
    "from tensorflow.keras import Sequential, Model\n",
    "from tensorflow.keras.layers import (\n",
    "    Conv2D, Activation, MaxPooling2D,\n",
    "    Flatten, Dense, Dropout, Input\n",
    ")"
   ]
  },
  {
   "cell_type": "markdown",
   "metadata": {},
   "source": [
    "## Okay, maybe that was too easy\n",
    "\n",
    "* I mean, if any pixels are lit up on the top half / bottom half, it's a smoking gun.\n",
    "* Let's make it harder with binned measurements and treat it as categorical."
   ]
  },
  {
   "cell_type": "code",
   "execution_count": 27,
   "metadata": {},
   "outputs": [
    {
     "name": "stdout",
     "output_type": "stream",
     "text": [
      "Found 7500 validated image filenames belonging to 10 classes.\n",
      "Found 2500 validated image filenames belonging to 10 classes.\n"
     ]
    }
   ],
   "source": [
    "mc_train_generator = create_generator(\n",
    "    target=\"phi_binned\",\n",
    "    subset=\"training\",\n",
    "    class_mode=\"categorical\",\n",
    "    N=10000\n",
    ")\n",
    "mc_val_generator = create_generator(\n",
    "    target=\"phi_binned\",\n",
    "    subset=\"validation\",\n",
    "    class_mode=\"categorical\",\n",
    "    N=10000\n",
    ")"
   ]
  },
  {
   "cell_type": "markdown",
   "metadata": {},
   "source": [
    "## Similar model, with some tweaks"
   ]
  },
  {
   "cell_type": "code",
   "execution_count": 28,
   "metadata": {},
   "outputs": [],
   "source": [
    "width  = 36\n",
    "height = 100\n",
    "channels = 3\n",
    "\n",
    "def multiclass_classifier():\n",
    "    model = Sequential()\n",
    "\n",
    "    # Convoluional Layer\n",
    "    model.add(Conv2D(32, (3, 3), input_shape=(height, width, channels)))\n",
    "    model.add(Activation('relu'))\n",
    "    model.add(MaxPooling2D(pool_size=(2, 2)))\n",
    "\n",
    "    # Dense, Classification Layer\n",
    "    model.add(Flatten())\n",
    "    model.add(Dense(32))\n",
    "    model.add(Activation('relu'))\n",
    "    model.add(Dropout(0.5))\n",
    "    model.add(Dense(10))\n",
    "    model.add(Activation('softmax'))\n",
    "\n",
    "    model.compile(loss='categorical_crossentropy',\n",
    "                  optimizer='adam',\n",
    "                  metrics=['accuracy'])\n",
    "    \n",
    "    return model"
   ]
  },
  {
   "cell_type": "code",
   "execution_count": 29,
   "metadata": {},
   "outputs": [],
   "source": [
    "STEP_SIZE_TRAIN = mc_train_generator.n//mc_train_generator.batch_size\n",
    "STEP_SIZE_VAL = mc_val_generator.n//mc_val_generator.batch_size"
   ]
  },
  {
   "cell_type": "code",
   "execution_count": 30,
   "metadata": {},
   "outputs": [
    {
     "name": "stdout",
     "output_type": "stream",
     "text": [
      "Epoch 1/10\n",
      "234/234 [==============================] - 8s 34ms/step - loss: 0.2956 - accuracy: 0.9138 - val_loss: 0.0671 - val_accuracy: 0.9736\n",
      "Epoch 2/10\n",
      "234/234 [==============================] - 7s 28ms/step - loss: 0.1325 - accuracy: 0.9530 - val_loss: 0.0523 - val_accuracy: 0.9788\n",
      "Epoch 3/10\n",
      "234/234 [==============================] - 7s 28ms/step - loss: 0.0960 - accuracy: 0.9657 - val_loss: 0.0428 - val_accuracy: 0.9836\n",
      "Epoch 4/10\n",
      "234/234 [==============================] - 7s 29ms/step - loss: 0.0875 - accuracy: 0.9680 - val_loss: 0.0397 - val_accuracy: 0.9848\n",
      "Epoch 5/10\n",
      "234/234 [==============================] - 7s 29ms/step - loss: 0.0824 - accuracy: 0.9697 - val_loss: 0.0370 - val_accuracy: 0.9844\n",
      "Epoch 6/10\n",
      "234/234 [==============================] - 7s 30ms/step - loss: 0.0783 - accuracy: 0.9695 - val_loss: 0.0334 - val_accuracy: 0.9856\n",
      "Epoch 7/10\n",
      "234/234 [==============================] - 7s 29ms/step - loss: 0.0766 - accuracy: 0.9716 - val_loss: 0.0270 - val_accuracy: 0.9900\n",
      "Epoch 8/10\n",
      "234/234 [==============================] - 7s 29ms/step - loss: 0.0658 - accuracy: 0.9730 - val_loss: 0.0287 - val_accuracy: 0.9876\n",
      "Epoch 9/10\n",
      "234/234 [==============================] - 7s 29ms/step - loss: 0.0637 - accuracy: 0.9767 - val_loss: 0.0265 - val_accuracy: 0.9880\n",
      "Epoch 10/10\n",
      "234/234 [==============================] - 7s 28ms/step - loss: 0.0644 - accuracy: 0.9754 - val_loss: 0.0267 - val_accuracy: 0.9900\n"
     ]
    }
   ],
   "source": [
    "mc_model = multiclass_classifier()\n",
    "mc_history = mc_model.fit_generator(\n",
    "    generator=mc_train_generator,\n",
    "    steps_per_epoch=STEP_SIZE_TRAIN,\n",
    "    validation_data=mc_val_generator,\n",
    "    validation_steps=STEP_SIZE_VAL,\n",
    "    epochs=10\n",
    ")"
   ]
  },
  {
   "cell_type": "code",
   "execution_count": 31,
   "metadata": {},
   "outputs": [
    {
     "data": {
      "image/png": "[encoded data removed]",
      "text/plain": [
       "<Figure size 432x288 with 1 Axes>"
      ]
     },
     "metadata": {
      "needs_background": "light"
     },
     "output_type": "display_data"
    }
   ],
   "source": [
    "plt.plot(mc_history.history['accuracy'], label=\"Train Accuracy\")\n",
    "plt.plot(mc_history.history['val_accuracy'], label=\"Validation Accuracy\")\n",
    "plt.legend()\n",
    "plt.show()"
   ]
  },
  {
   "cell_type": "markdown",
   "metadata": {},
   "source": [
    "## Check out predictions on Holdout data"
   ]
  },
  {
   "cell_type": "code",
   "execution_count": 32,
   "metadata": {},
   "outputs": [],
   "source": [
    "holdout_track_params = pd.read_csv('../VALIDATION/track_parms.csv')\n",
    "\n",
    "holdout_track_params['phi_binned'] = pd.cut(\n",
    "    holdout_track_params['phi'],\n",
    "    bins=phi_bins\n",
    ")\n",
    "holdout_track_params['phi_binned'] = (\n",
    "    holdout_track_params['phi_binned'].astype(str)\n",
    ")"
   ]
  },
  {
   "cell_type": "code",
   "execution_count": 33,
   "metadata": {},
   "outputs": [
    {
     "name": "stdout",
     "output_type": "stream",
     "text": [
      "Found 50000 validated image filenames belonging to 10 classes.\n"
     ]
    }
   ],
   "source": [
    "mc_holdout_generator = DATAGEN.flow_from_dataframe(\n",
    "    dataframe=holdout_track_params,\n",
    "    directory=\"../VALIDATION\",\n",
    "    x_col=\"filename\",\n",
    "    y_col=\"phi_binned\",\n",
    "    subset=None,\n",
    "    target_size=(height, width),\n",
    "    batch_size=32,\n",
    "    seed=314,\n",
    "    shuffle=False,\n",
    "    class_mode=\"categorical\",\n",
    ")"
   ]
  },
  {
   "cell_type": "code",
   "execution_count": 34,
   "metadata": {},
   "outputs": [],
   "source": [
    "holdout_track_params['y_pred'] = mc_model.predict_classes(mc_holdout_generator)"
   ]
  },
  {
   "cell_type": "code",
   "execution_count": 35,
   "metadata": {},
   "outputs": [],
   "source": [
    "holdout_track_params['y_true'] = mc_holdout_generator.classes"
   ]
  },
  {
   "cell_type": "code",
   "execution_count": 36,
   "metadata": {},
   "outputs": [],
   "source": [
    "import numpy as np\n",
    "from sklearn.metrics import confusion_matrix\n",
    "\n",
    "def plot_confusion_matrix(cm,\n",
    "                          target_names,\n",
    "                          title='Confusion matrix',\n",
    "                          cmap=None,\n",
    "                          normalize=True):\n",
    "    \"\"\"\n",
    "    given a sklearn confusion matrix (cm), make a nice plot\n",
    "\n",
    "    Arguments\n",
    "    ---------\n",
    "    cm:           confusion matrix from sklearn.metrics.confusion_matrix\n",
    "\n",
    "    target_names: given classification classes such as [0, 1, 2]\n",
    "                  the class names, for example: ['high', 'medium', 'low']\n",
    "\n",
    "    title:        the text to display at the top of the matrix\n",
    "\n",
    "    cmap:         the gradient of the values displayed from matplotlib.pyplot.cm\n",
    "                  see http://matplotlib.org/examples/color/colormaps_reference.html\n",
    "                  plt.get_cmap('jet') or plt.cm.Blues\n",
    "\n",
    "    normalize:    If False, plot the raw numbers\n",
    "                  If True, plot the proportions\n",
    "\n",
    "    Usage\n",
    "    -----\n",
    "    plot_confusion_matrix(cm           = cm,                  # confusion matrix created by\n",
    "                                                              # sklearn.metrics.confusion_matrix\n",
    "                          normalize    = True,                # show proportions\n",
    "                          target_names = y_labels_vals,       # list of names of the classes\n",
    "                          title        = best_estimator_name) # title of graph\n",
    "\n",
    "    Citiation\n",
    "    ---------\n",
    "    http://scikit-learn.org/stable/auto_examples/model_selection/plot_confusion_matrix.html\n",
    "\n",
    "    \"\"\"\n",
    "    import matplotlib.pyplot as plt\n",
    "    import numpy as np\n",
    "    import itertools\n",
    "\n",
    "    accuracy = np.trace(cm) / float(np.sum(cm))\n",
    "    misclass = 1 - accuracy\n",
    "\n",
    "    if cmap is None:\n",
    "        cmap = plt.get_cmap('Blues')\n",
    "\n",
    "    plt.figure(figsize=(10, 8))\n",
    "    plt.imshow(cm, interpolation='nearest', cmap=cmap)\n",
    "    plt.title(title)\n",
    "    plt.colorbar()\n",
    "\n",
    "    if target_names is not None:\n",
    "        tick_marks = np.arange(len(target_names))\n",
    "        plt.xticks(tick_marks, target_names, rotation=45)\n",
    "        plt.yticks(tick_marks, target_names)\n",
    "\n",
    "    if normalize:\n",
    "        cm = cm.astype('float') / cm.sum(axis=1)[:, np.newaxis]\n",
    "\n",
    "\n",
    "    thresh = cm.max() / 1.5 if normalize else cm.max() / 2\n",
    "    for i, j in itertools.product(range(cm.shape[0]), range(cm.shape[1])):\n",
    "        if normalize:\n",
    "            plt.text(j, i, \"{:0.4f}\".format(cm[i, j]),\n",
    "                     horizontalalignment=\"center\",\n",
    "                     color=\"white\" if cm[i, j] > thresh else \"black\")\n",
    "        else:\n",
    "            plt.text(j, i, \"{:,}\".format(cm[i, j]),\n",
    "                     horizontalalignment=\"center\",\n",
    "                     color=\"white\" if cm[i, j] > thresh else \"black\")\n",
    "\n",
    "\n",
    "    plt.tight_layout()\n",
    "    plt.ylabel('True label')\n",
    "    plt.xlabel('Predicted label\\naccuracy={:0.4f}; misclass={:0.4f}'.format(accuracy, misclass))\n",
    "    plt.show()"
   ]
  },
  {
   "cell_type": "code",
   "execution_count": 37,
   "metadata": {},
   "outputs": [
    {
     "data": {
      "image/png": "[encoded data removed]",
      "text/plain": [
       "<Figure size 720x576 with 2 Axes>"
      ]
     },
     "metadata": {
      "needs_background": "light"
     },
     "output_type": "display_data"
    }
   ],
   "source": [
    "y_pred = mc_model.predict_classes(mc_holdout_generator)\n",
    "y_true = mc_holdout_generator.labels\n",
    "\n",
    "label_list = ['(-10.0, -8.0]', '(-8.0, -6.0]', '(-6.0, -4.0]', '(-4.0, -2.0]',\n",
    "              '(-2.0, 0.0]', '(0.0, 2.0]', '(2.0, 4.0]', '(4.0, 6.0]', '(6.0, 8.0]',\n",
    "              '(8.0, 10.0]']\n",
    "plot_confusion_matrix(confusion_matrix(y_true, y_pred),\n",
    "                      target_names=label_list,\n",
    "                      normalize=False)"
   ]
  },
  {
   "cell_type": "code",
   "execution_count": null,
   "metadata": {},
   "outputs": [],
   "source": []
  }
 ],
 "metadata": {
  "kernelspec": {
   "display_name": "Python 3",
   "language": "python",
   "name": "python3"
  },
  "language_info": {
   "codemirror_mode": {
    "name": "ipython",
    "version": 3
   },
   "file_extension": ".py",
   "mimetype": "text/x-python",
   "name": "python",
   "nbconvert_exporter": "python",
   "pygments_lexer": "ipython3",
   "version": "3.7.3"
  }
 },
 "nbformat": 4,
 "nbformat_minor": 4
}
