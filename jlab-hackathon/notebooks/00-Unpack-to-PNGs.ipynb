{
 "cells": [
  {
   "cell_type": "markdown",
   "metadata": {},
   "source": [
    "## Unpack the TRAIN data into 50k PNG files\n",
    "\n",
    "* And the smaller holdout set"
   ]
  },
  {
   "cell_type": "code",
   "execution_count": 41,
   "metadata": {},
   "outputs": [],
   "source": [
    "import gzip\n",
    "import png"
   ]
  },
  {
   "cell_type": "code",
   "execution_count": 117,
   "metadata": {},
   "outputs": [],
   "source": [
    "height = 100\n",
    "width = 36"
   ]
  },
  {
   "cell_type": "code",
   "execution_count": 43,
   "metadata": {},
   "outputs": [
    {
     "name": "stdout",
     "output_type": "stream",
     "text": [
      "File truncated!\n"
     ]
    }
   ],
   "source": [
    "idx = 0\n",
    "with gzip.open('../TRAIN/images.raw.gz') as f:\n",
    "    while True:\n",
    "        # Read record and make it the right shape\n",
    "        buffer = f.read(width*height)\n",
    "    \n",
    "        if len(buffer) != (width*height):\n",
    "            print('EOF')\n",
    "            break\n",
    "        data = np.frombuffer(buffer, dtype='B', count=width*height)\n",
    "        pixels = np.reshape(data, [height, width])\n",
    "\n",
    "        # Image name\n",
    "        fname = '../TRAIN/img{:06}.png'.format(idx) \n",
    "\n",
    "        # Create image file\n",
    "        png.fromarray(pixels, 'L').save(fname)\n",
    "        \n",
    "        idx = idx + 1"
   ]
  },
  {
   "cell_type": "code",
   "execution_count": 119,
   "metadata": {},
   "outputs": [
    {
     "name": "stdout",
     "output_type": "stream",
     "text": [
      "EOF\n"
     ]
    }
   ],
   "source": [
    "idx = 0\n",
    "with gzip.open('../VALIDATION/images.raw.gz') as f:\n",
    "    while True:\n",
    "        # Read record and make it the right shape\n",
    "        buffer = f.read(width*height)\n",
    "    \n",
    "        if len(buffer) != (width*height):\n",
    "            print('EOF')\n",
    "            break\n",
    "        data = np.frombuffer(buffer, dtype='B', count=width*height)\n",
    "        pixels = np.reshape(data, [height, width])\n",
    "\n",
    "        # Image name\n",
    "        fname = '../VALIDATION/img{:06}.png'.format(idx) \n",
    "\n",
    "        # Create image file\n",
    "        png.fromarray(pixels, 'L').save(fname)\n",
    "        \n",
    "        idx = idx + 1"
   ]
  }
 ],
 "metadata": {
  "kernelspec": {
   "display_name": "Python 3",
   "language": "python",
   "name": "python3"
  },
  "language_info": {
   "codemirror_mode": {
    "name": "ipython",
    "version": 3
   },
   "file_extension": ".py",
   "mimetype": "text/x-python",
   "name": "python",
   "nbconvert_exporter": "python",
   "pygments_lexer": "ipython3",
   "version": "3.7.3"
  }
 },
 "nbformat": 4,
 "nbformat_minor": 4
}
