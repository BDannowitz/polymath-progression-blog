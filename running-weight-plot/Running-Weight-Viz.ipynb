{
 "cells": [
  {
   "cell_type": "markdown",
   "metadata": {},
   "source": [
    "# Running / Weight Combo Visualization\n",
    "\n",
    "## Goals:\n",
    "\n",
    "* Display running logs as bubble chart\n",
    "  * X-axis is Date\n",
    "  * Y-axis value corresponding to Pace\n",
    "  * Size corresponding to distance\n",
    "  * Some coloration corresponding to Tracker app used\n",
    "  * Special color for races?\n",
    "  * Hover-over shows details\n",
    "* Weight plotting as scatter plot\n",
    "  * X-axis is Date \n",
    "  * Y-axis is Weight in pounds\n",
    "  * Light, tiny points\n",
    "* Polynomial fit to weight\n",
    "  * Poly fits look good (see: Weight Gurus)\n",
    "  * Play around with number of degrees"
   ]
  },
  {
   "cell_type": "code",
   "execution_count": 1,
   "metadata": {},
   "outputs": [],
   "source": [
    "%matplotlib inline"
   ]
  },
  {
   "cell_type": "code",
   "execution_count": 2,
   "metadata": {},
   "outputs": [],
   "source": [
    "import pandas as pd\n",
    "import numpy as np"
   ]
  },
  {
   "cell_type": "markdown",
   "metadata": {},
   "source": [
    "## 1. Run Data"
   ]
  },
  {
   "cell_type": "code",
   "execution_count": 3,
   "metadata": {},
   "outputs": [],
   "source": [
    "run_df = (pd.read_csv('data/processed/run.csv', parse_dates=['Date'], index_col=0)\n",
    "          .reset_index(drop=True))\n",
    "run_df = run_df.fillna('')"
   ]
  },
  {
   "cell_type": "code",
   "execution_count": 4,
   "metadata": {},
   "outputs": [],
   "source": [
    "# Planning on highlighting the race on the visualization\n",
    "run_df['Line_Color'] = \"#C0C0C0\"  # Silver\n",
    "run_df.loc[[237, 127], 'Line_Color'] = \"#39FF14\"  # Neon Green"
   ]
  },
  {
   "cell_type": "code",
   "execution_count": 5,
   "metadata": {},
   "outputs": [],
   "source": [
    "# I'm tying distance to size, but need the numbers to be a little larger...\n",
    "run_df['Display_Size'] = run_df['Distance'] * 2"
   ]
  },
  {
   "cell_type": "markdown",
   "metadata": {},
   "source": [
    "## 2. Weigh-in Data"
   ]
  },
  {
   "cell_type": "code",
   "execution_count": 6,
   "metadata": {},
   "outputs": [],
   "source": [
    "weight_df = pd.read_csv('data/processed/weight.csv', parse_dates=['Date'], index_col=0)\n",
    "weight_df = weight_df[weight_df['Date'] > '2017-02-28']\n",
    "weight_df = weight_df.reset_index(drop=True)"
   ]
  },
  {
   "cell_type": "markdown",
   "metadata": {},
   "source": [
    "## 3. Polynomial fit to weigh-in\n",
    "\n",
    "* Many weigh-ins, but at irregular intervals\n",
    "* Need to fit to this, which is easy\n",
    "* Need to predict on regular date intervals, which is tricker"
   ]
  },
  {
   "cell_type": "code",
   "execution_count": 7,
   "metadata": {},
   "outputs": [],
   "source": [
    "# Turn datetime into unix time (for fitting purposes)\n",
    "weight_df['timestamp'] = weight_df.Date.apply(\n",
    "    lambda x: int(round(x.timestamp()))\n",
    ")\n",
    "\n",
    "# Fit the polynomial. 3 degrees should do just fine, given the shape\n",
    "params = np.polyfit(weight_df['timestamp'], weight_df['Weight'], 3)\n",
    "\n",
    "# Get an effective x-range for the fit to display on\n",
    "date_range = pd.date_range(start=weight_df.Date.min(),\n",
    "                           end=weight_df.Date.max(),\n",
    "                           freq='D', )\n",
    "date_range_sec = [x.timestamp() for x in date_range]\n",
    "\n",
    "# Get polynomial function value for each day in that range\n",
    "poly_func = np.poly1d(params)\n",
    "poly_vals = poly_func(date_range_sec)\n",
    "\n",
    "# Toss into a dataframe for plotting\n",
    "poly_df = pd.DataFrame({'Date': date_range, 'Weight': poly_vals})"
   ]
  },
  {
   "cell_type": "markdown",
   "metadata": {},
   "source": [
    "## 4. Start Plotting!"
   ]
  },
  {
   "cell_type": "code",
   "execution_count": 8,
   "metadata": {},
   "outputs": [],
   "source": [
    "import time\n",
    "from datetime import datetime as dt\n",
    "from bokeh.models import (\n",
    "    LinearAxis, Range1d, ColumnDataSource,\n",
    "    LogColorMapper, HoverTool,\n",
    "    Arrow, NormalHead, LabelSet\n",
    ")\n",
    "from bokeh.plotting import figure, output_file, show\n",
    "from bokeh.palettes import Plasma10\n",
    "\n",
    "Plasma10.reverse()"
   ]
  },
  {
   "cell_type": "code",
   "execution_count": 9,
   "metadata": {},
   "outputs": [],
   "source": [
    "# Where are we shipping this out to?\n",
    "output_file(\"html/bdannowitz-fitness-viz.html\")\n",
    "\n",
    "# Create a new plot with a datetime axis type\n",
    "p = figure(plot_width=1100,\n",
    "           plot_height=500,\n",
    "           x_axis_type=\"datetime\",\n",
    "           title=\"Run Log and Weigh-Ins\",\n",
    "           toolbar_location=\"above\")\n",
    "\n",
    "# Create a second y-axis, set y-axis ranges\n",
    "p.extra_y_ranges = {\"pace\": Range1d(start=12, end=7.33)}\n",
    "p.y_range = Range1d(170, 245)\n",
    "\n",
    "# Adding the second axis to the plot.  \n",
    "p.add_layout(LinearAxis(y_range_name=\"pace\"), 'right')\n",
    "\n",
    "# Label the axes\n",
    "p.xaxis.axis_label = \"Date\"\n",
    "p.yaxis[0].axis_label = \"Weight (lbs)\"\n",
    "p.yaxis[1].axis_label = \"Pace (Minutes per Mile)\"\n",
    "\n",
    "# Redundant, but it looks cool.\n",
    "log_cmap = LogColorMapper(palette=Plasma10, low=7.5, high=11.5)\n",
    "\n",
    "# Plot running logs\n",
    "run_glyph = p.circle(\n",
    "    x='Date',\n",
    "    y='Pace_min',\n",
    "    size='Display_Size',\n",
    "    line_color='Line_Color',\n",
    "    line_width=2,\n",
    "    fill_color={'field': 'Pace_min', 'transform': log_cmap},\n",
    "    alpha=0.8,\n",
    "    y_range_name=\"pace\",\n",
    "    source=run_df,\n",
    "    legend=\"Run Log\"\n",
    ")\n",
    "\n",
    "# Add hover-over details for run log\n",
    "tooltips = [\n",
    "    (\"Date\", \"@Date{%F}\"),\n",
    "    (\"Distance\", \"@Distance{1.1} mi\"),\n",
    "    (\"Pace\", \"@Pace min/mi\"),\n",
    "    (\"Duration\", \"@Duration\"),\n",
    "    (\"Name\", \"@Name\"),\n",
    "    (\"Description\", \"@Description\"),\n",
    "    (\"Tracker\", \"@Tracker\"),\n",
    "]\n",
    "p.add_tools(\n",
    "    HoverTool(\n",
    "        tooltips=tooltips,\n",
    "        renderers=[run_glyph],\n",
    "        formatters={\"Date\": \"datetime\"}\n",
    "    )\n",
    ")\n",
    "\n",
    "# Plot weigh-ins as small dots\n",
    "p.circle(x='Date', y='Weight', size=2, color='gray',\n",
    "         source=weight_df, alpha=0.7)\n",
    "\n",
    "# Plot the polynomial fit\n",
    "p.line(x='Date', y='Weight', source=poly_df, legend=\"Weight (Poly Fit)\")\n",
    "\n",
    "# Legend tuning\n",
    "p.legend.location = 'bottom_left'\n",
    "p.legend.background_fill_alpha = 0.5\n",
    "\n",
    "###### Start Annotations\n",
    "\n",
    "# Time Events\n",
    "new_house = time.mktime(dt(2018, 1, 15, 0, 0, 0).timetuple())*1000\n",
    "kc_half_train = time.mktime(dt(2018, 5, 1, 0, 0, 0).timetuple())*1000\n",
    "tendonitis_IF = time.mktime(dt(2019, 2, 1, 0, 0, 0).timetuple())*1000\n",
    "\n",
    "# Create arrows that point to spots along the timeline\n",
    "arrows_df = pd.DataFrame(\n",
    "    {'x_start': [new_house, kc_half_train, tendonitis_IF],\n",
    "     'x_end': [new_house, kc_half_train, tendonitis_IF],\n",
    "     'y_start': [180, 220, 179],\n",
    "     'y_end': [171, 171, 171]})\n",
    "p.add_layout(Arrow(end=NormalHead(size=10, fill_color=\"gray\"),\n",
    "                   line_width=3, line_color=\"#666666\",\n",
    "                   x_start='x_start', x_end='x_end',\n",
    "                   y_start='y_start', y_end='y_end',\n",
    "                   source=ColumnDataSource(arrows_df)))\n",
    "\n",
    "# Create labels for these moments\n",
    "labels_df = pd.DataFrame(\n",
    "    {'x': [new_house, kc_half_train, tendonitis_IF, tendonitis_IF],\n",
    "     'y': [182, 223, 184.5, 181],\n",
    "     'text': [\"New House\", \"Start KC Half Marathon Training\",\n",
    "              \"Achilles Tendonitis\", \"Started 16:8 IF\"]}\n",
    ")\n",
    "p.add_layout(\n",
    "    LabelSet(\n",
    "        x=\"x\", y=\"y\", text=\"text\",\n",
    "        source=ColumnDataSource(labels_df),\n",
    "        text_baseline=\"middle\", text_align=\"center\",\n",
    "        text_color=\"#666666\"\n",
    "    )\n",
    ")\n",
    "\n",
    "# Ship it.\n",
    "show(p)"
   ]
  },
  {
   "cell_type": "code",
   "execution_count": null,
   "metadata": {},
   "outputs": [],
   "source": []
  }
 ],
 "metadata": {
  "kernelspec": {
   "display_name": "Python 3",
   "language": "python",
   "name": "python3"
  },
  "language_info": {
   "codemirror_mode": {
    "name": "ipython",
    "version": 3
   },
   "file_extension": ".py",
   "mimetype": "text/x-python",
   "name": "python",
   "nbconvert_exporter": "python",
   "pygments_lexer": "ipython3",
   "version": "3.7.3"
  }
 },
 "nbformat": 4,
 "nbformat_minor": 4
}
