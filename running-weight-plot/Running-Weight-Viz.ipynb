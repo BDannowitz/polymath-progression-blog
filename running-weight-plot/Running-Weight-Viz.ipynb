{
 "cells": [
  {
   "cell_type": "markdown",
   "metadata": {},
   "source": [
    "# Running / Weight Combo Visualization\n",
    "\n",
    "## Goals:\n",
    "\n",
    "* Display running logs as bubble chart\n",
    "  * X-axis is Date\n",
    "  * Y-axis value corresponding to Pace\n",
    "  * Size corresponding to distance\n",
    "  * Some coloration corresponding to Tracker app used\n",
    "  * Special color for races?\n",
    "  * Hover-over shows details\n",
    "* Weight plotting as scatter plot\n",
    "  * X-axis is Date \n",
    "  * Y-axis is Weight in pounds\n",
    "  * Light, tiny points\n",
    "* Polynomial fit to weight\n",
    "  * Poly fits look good (see: Weight Gurus)\n",
    "  * Play around with number of degrees"
   ]
  },
  {
   "cell_type": "code",
   "execution_count": 151,
   "metadata": {},
   "outputs": [],
   "source": [
    "%matplotlib inline"
   ]
  },
  {
   "cell_type": "code",
   "execution_count": 152,
   "metadata": {},
   "outputs": [],
   "source": [
    "import pandas as pd\n",
    "import numpy as np"
   ]
  },
  {
   "cell_type": "markdown",
   "metadata": {},
   "source": [
    "## 1. Run Data"
   ]
  },
  {
   "cell_type": "code",
   "execution_count": 153,
   "metadata": {},
   "outputs": [],
   "source": [
    "run_df = pd.read_csv('run.csv', parse_dates=['Date'], index_col=0).reset_index(drop=True)\n",
    "run_df = run_df.fillna('')"
   ]
  },
  {
   "cell_type": "code",
   "execution_count": 165,
   "metadata": {},
   "outputs": [],
   "source": [
    "# Planning on highlighting the race on the visualization\n",
    "run_df['Line_Color'] = \"#C0C0C0\"  # Silver\n",
    "run_df.loc[[237, 127], 'Line_Color'] = \"#39FF14\"  # Neon Green"
   ]
  },
  {
   "cell_type": "code",
   "execution_count": 156,
   "metadata": {},
   "outputs": [],
   "source": [
    "# I'm tying distance to size, but need the numbers to be a little larger...\n",
    "run_df['Display_Size'] = run_df['Distance'] * 2"
   ]
  },
  {
   "cell_type": "markdown",
   "metadata": {},
   "source": [
    "## 2. Weigh-in Data"
   ]
  },
  {
   "cell_type": "code",
   "execution_count": 157,
   "metadata": {},
   "outputs": [],
   "source": [
    "weight_df = pd.read_csv('weight.csv', parse_dates=['Date'], index_col=0)\n",
    "weight_df = weight_df[weight_df['Date'] > '2017-02-28']\n",
    "weight_df = weight_df.reset_index(drop=True)"
   ]
  },
  {
   "cell_type": "markdown",
   "metadata": {},
   "source": [
    "## 3. Polynomial fit to weigh-in\n",
    "\n",
    "* Many weigh-ins, but at irregular intervals\n",
    "* Need to fit to this, which is easy\n",
    "* Need to predict on regular date intervals, which is tricker"
   ]
  },
  {
   "cell_type": "markdown",
   "metadata": {},
   "source": [
    "#### Get dates in a format that can be polynomial fitted"
   ]
  },
  {
   "cell_type": "code",
   "execution_count": 158,
   "metadata": {},
   "outputs": [],
   "source": [
    "weight_df['timestamp'] = weight_df.Date.apply(lambda x: int(round(x.timestamp())))"
   ]
  },
  {
   "cell_type": "markdown",
   "metadata": {},
   "source": [
    "#### Fit the polynomial function, get parameters"
   ]
  },
  {
   "cell_type": "code",
   "execution_count": 159,
   "metadata": {},
   "outputs": [],
   "source": [
    "params = np.polyfit(weight_df['timestamp'], weight_df['Weight'], 3)"
   ]
  },
  {
   "cell_type": "markdown",
   "metadata": {},
   "source": [
    "#### Get an effective x-range for the fit to display on"
   ]
  },
  {
   "cell_type": "code",
   "execution_count": 160,
   "metadata": {},
   "outputs": [],
   "source": [
    "date_range = pd.date_range(start=weight_df.Date.min(),\n",
    "                           end=weight_df.Date.max(),\n",
    "                           freq='D', )\n",
    "date_range_sec = [int(round(x.timestamp())) for x in date_range]"
   ]
  },
  {
   "cell_type": "markdown",
   "metadata": {},
   "source": [
    "#### Get polynomial function value for each day in that range"
   ]
  },
  {
   "cell_type": "code",
   "execution_count": 161,
   "metadata": {},
   "outputs": [],
   "source": [
    "poly_func = np.poly1d(params)\n",
    "poly_weights = poly_func(date_range_sec)"
   ]
  },
  {
   "cell_type": "markdown",
   "metadata": {},
   "source": [
    "#### Toss into a dataframe"
   ]
  },
  {
   "cell_type": "code",
   "execution_count": 162,
   "metadata": {},
   "outputs": [],
   "source": [
    "poly_df = pd.DataFrame({'Date': date_range, 'Weight': poly_weights})"
   ]
  },
  {
   "cell_type": "markdown",
   "metadata": {},
   "source": [
    "## 4. Start Plotting!"
   ]
  },
  {
   "cell_type": "code",
   "execution_count": 163,
   "metadata": {},
   "outputs": [],
   "source": [
    "import time\n",
    "from datetime import datetime as dt\n",
    "from bokeh.models import (\n",
    "    Select, LinearAxis, Range1d,\n",
    "    LogColorMapper, HoverTool,\n",
    "    Arrow, NormalHead, Label\n",
    ")\n",
    "from bokeh.plotting import figure, output_file, show\n",
    "from bokeh.palettes import Plasma10\n",
    "from bokeh.io import show\n",
    "\n",
    "Plasma10.reverse()"
   ]
  },
  {
   "cell_type": "code",
   "execution_count": 166,
   "metadata": {},
   "outputs": [],
   "source": [
    "# Where are we shipping this out to?\n",
    "output_file(\"datetime.html\")\n",
    "\n",
    "# Create a new plot with a datetime axis type\n",
    "p = figure(plot_width=1100,\n",
    "           plot_height=500,\n",
    "           x_axis_type=\"datetime\",\n",
    "           title=\"Run Log and Weigh-Ins\",\n",
    "           toolbar_location=\"above\")\n",
    "\n",
    "# Create a second y-axis, set y-axis ranges\n",
    "p.extra_y_ranges = {\"pace\": Range1d(start=12, end=7.33)}\n",
    "p.y_range = Range1d(170, 245)\n",
    "\n",
    "# Adding the second axis to the plot.  \n",
    "p.add_layout(LinearAxis(y_range_name=\"pace\"), 'right')\n",
    "\n",
    "# Label the axes\n",
    "p.xaxis.axis_label = \"Date\"\n",
    "p.yaxis[0].axis_label = \"Weight (lbs)\"\n",
    "p.yaxis[1].axis_label = \"Pace (Minutes per Mile)\"\n",
    "\n",
    "# Redundant, but it looks cool.\n",
    "log_cmap = LogColorMapper(palette=Plasma10, low=7.5, high=11.5)\n",
    "\n",
    "# Plot running logs\n",
    "run_glyph = p.circle(\n",
    "    x='Date',\n",
    "    y='Pace_min',\n",
    "    size='Display_Size',\n",
    "    line_color='Line_Color',\n",
    "    line_width=2,\n",
    "    fill_color={'field': 'Pace_min', 'transform': log_cmap},\n",
    "    alpha=0.8,\n",
    "    y_range_name=\"pace\",\n",
    "    source=run_df,\n",
    "    legend=\"Run Log\"\n",
    ")\n",
    "\n",
    "# Add hover-over details for run log\n",
    "tooltips = [\n",
    "    (\"Date\", \"@Date{%F}\"),\n",
    "    (\"Distance\", \"@Distance{1.1} mi\"),\n",
    "    (\"Pace\", \"@Pace min/mi\"),\n",
    "    (\"Duration\", \"@Duration\"),\n",
    "    (\"Name\", \"@Name\"),\n",
    "    (\"Description\", \"@Description\"),\n",
    "    (\"Tracker\", \"@Tracker\"),\n",
    "]\n",
    "p.add_tools(\n",
    "    HoverTool(\n",
    "        tooltips=tooltips,\n",
    "        renderers=[run_glyph],\n",
    "        formatters={\"Date\": \"datetime\"}\n",
    "    )\n",
    ")\n",
    "\n",
    "# Plot weigh-ins as small dots\n",
    "p.circle(x='Date', y='Weight', size=2, color='gray',\n",
    "         source=weight_df, alpha=0.7)\n",
    "\n",
    "# Plot the polynomial fit\n",
    "p.line(x='Date', y='Weight', source=poly_df, legend=\"Weight (Poly Fit)\")\n",
    "\n",
    "# Legend tuning\n",
    "p.legend.location = 'bottom_left'\n",
    "p.legend.background_fill_alpha = 0.5\n",
    "\n",
    "###### Start Annotations\n",
    "\n",
    "# Add arrow and label for when we got our house\n",
    "new_house = time.mktime(dt(2018, 1, 15, 0, 0, 0).timetuple())*1000\n",
    "p.add_layout(Arrow(end=NormalHead(size=10, fill_color=\"gray\"),\n",
    "                   line_width=3, line_color=\"#666666\",\n",
    "                   x_start=new_house, x_end=new_house,\n",
    "                   y_start=180, y_end=171))\n",
    "p.add_layout(Label(x=new_house, y=182,\n",
    "                   text=\"New House\", text_baseline=\"middle\",\n",
    "                   text_align=\"center\", text_color=\"#666666\"))\n",
    "\n",
    "# Add arrow and label for when I started KC Half Marathon Training\n",
    "kc_half_train = time.mktime(dt(2018, 5, 1, 0, 0, 0).timetuple())*1000\n",
    "p.add_layout(Arrow(end=NormalHead(size=10, fill_color=\"gray\"),\n",
    "                   line_width=3, line_color=\"#666666\",\n",
    "                   x_start=kc_half_train, x_end=kc_half_train,\n",
    "                   y_start=220, y_end=171))\n",
    "p.add_layout(Label(x=kc_half_train, y=223,\n",
    "                   text=\"Start KC Half Marathon Training\",\n",
    "                   text_baseline=\"middle\", text_align=\"center\",\n",
    "                   text_color=\"#666666\"))\n",
    "\n",
    "# Add arrow and label for when I started KC Half Marathon Training\n",
    "tendonitis_IF = time.mktime(dt(2019, 2, 1, 0, 0, 0).timetuple())*1000\n",
    "p.add_layout(Arrow(end=NormalHead(size=10, fill_color=\"gray\"),\n",
    "                   line_width=3, line_color=\"#666666\",\n",
    "                   x_start=tendonitis_IF, x_end=tendonitis_IF,\n",
    "                   y_start=179, y_end=171))\n",
    "p.add_layout(Label(x=tendonitis_IF, y=184.5,\n",
    "                   text=\"Achiles Tendonitis\",\n",
    "                   text_baseline=\"middle\", text_align=\"center\",\n",
    "                   text_color=\"#666666\"))\n",
    "p.add_layout(Label(x=tendonitis_IF, y=181,\n",
    "                   text=\"Started 16:8 IF\",\n",
    "                   text_baseline=\"middle\", text_align=\"center\",\n",
    "                   text_color=\"#666666\"))\n",
    "\n",
    "# Ship it.\n",
    "show(p)"
   ]
  },
  {
   "cell_type": "code",
   "execution_count": null,
   "metadata": {},
   "outputs": [],
   "source": []
  }
 ],
 "metadata": {
  "kernelspec": {
   "display_name": "Python 3",
   "language": "python",
   "name": "python3"
  },
  "language_info": {
   "codemirror_mode": {
    "name": "ipython",
    "version": 3
   },
   "file_extension": ".py",
   "mimetype": "text/x-python",
   "name": "python",
   "nbconvert_exporter": "python",
   "pygments_lexer": "ipython3",
   "version": "3.7.3"
  }
 },
 "nbformat": 4,
 "nbformat_minor": 4
}
