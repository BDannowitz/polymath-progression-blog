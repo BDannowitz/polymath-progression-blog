{
 "cells": [
  {
   "cell_type": "code",
   "execution_count": 2,
   "metadata": {
    "collapsed": true
   },
   "outputs": [],
   "source": [
    "%matplotlib inline\n",
    "import MySQLdb as mdb               # Raw data source is MySQL\n",
    "import pandas as pd                 # Workhorse data management tool\n",
    "import numpy as np                  # For matrices, arrays, matrix math, and nan's"
   ]
  },
  {
   "cell_type": "code",
   "execution_count": 3,
   "metadata": {
    "collapsed": true
   },
   "outputs": [],
   "source": [
    "import matplotlib.pyplot as plt     # For plotting some distributions\n",
    "import seaborn as sns\n",
    "sns.set_context(\"talk\", font_scale=1.4)"
   ]
  },
  {
   "cell_type": "code",
   "execution_count": 4,
   "metadata": {
    "collapsed": true
   },
   "outputs": [],
   "source": [
    "server = 'e906-db3.fnal.gov'                         # Source MySQL server\n",
    "port = 3306\n",
    "schema = 'merged_roadset62_R004_V005' "
   ]
  },
  {
   "cell_type": "code",
   "execution_count": 62,
   "metadata": {
    "collapsed": true
   },
   "outputs": [],
   "source": [
    "query = \"\"\"\n",
    "        SELECT spillID AS `eventID`, scalerName AS `key`, value, targetPos AS class\n",
    "        FROM Scaler \n",
    "        INNER JOIN Spill s              # Source of targetPos\n",
    "            USING(spillID) \n",
    "        WHERE scalerName IS NOT NULL AND \n",
    "              s.spillID NOT BETWEEN 409000 AND 430000 AND     \n",
    "              s.spillID NOT BETWEEN 416709 AND 424180 AND\n",
    "              s.spillID NOT BETWEEN 482574 AND 484924 AND\n",
    "              spillType='EOS' AND\n",
    "              s.dataQuality = 0 AND\n",
    "              scalerName IN ('AfterInhMATRIX5', 'PrescaleMATRIX5',\n",
    "                             'RawMATRIX4', 'RawTriggers')\n",
    "        \"\"\""
   ]
  },
  {
   "cell_type": "code",
   "execution_count": null,
   "metadata": {
    "collapsed": true
   },
   "outputs": [],
   "source": [
    "query = \"\"\"\n",
    "        SELECT name, value, class\n",
    "        FROM my_database.my_table\n",
    "        \"\"\""
   ]
  },
  {
   "cell_type": "code",
   "execution_count": 63,
   "metadata": {
    "collapsed": false
   },
   "outputs": [],
   "source": [
    "try:\n",
    "    db = mdb.connect(read_default_file='../../.my.cnf',                  # Keep my login credentials secure\n",
    "                     read_default_group='guest',                   # Read-only access to important data\n",
    "                     host=server,\n",
    "                     db=schema)\n",
    "    data_df = pd.read_sql(query, db)\n",
    "    data_df.index.name=\"id\"\n",
    "    \n",
    "except mdb.Error, e:\n",
    "\n",
    "    print \"Error %d: %s\" % (e.args[0], e.args[1])"
   ]
  },
  {
   "cell_type": "code",
   "execution_count": 64,
   "metadata": {
    "collapsed": true
   },
   "outputs": [],
   "source": [
    "data_df.to_csv('violin-plot-data.csv', index_label='id')"
   ]
  },
  {
   "cell_type": "code",
   "execution_count": 65,
   "metadata": {
    "collapsed": false
   },
   "outputs": [],
   "source": [
    "data_df = pd.read_csv('violin-plot-data.csv', index_col='id')"
   ]
  },
  {
   "cell_type": "code",
   "execution_count": 66,
   "metadata": {
    "collapsed": false
   },
   "outputs": [
    {
     "name": "stdout",
     "output_type": "stream",
     "text": [
      "<class 'pandas.core.frame.DataFrame'>\n",
      "Int64Index: 164196 entries, 0 to 164195\n",
      "Data columns (total 4 columns):\n",
      "eventID    164196 non-null int64\n",
      "key        164196 non-null object\n",
      "value      164196 non-null int64\n",
      "class      164196 non-null int64\n",
      "dtypes: int64(3), object(1)\n",
      "memory usage: 6.3+ MB\n"
     ]
    }
   ],
   "source": [
    "data_df.info()"
   ]
  },
  {
   "cell_type": "code",
   "execution_count": 67,
   "metadata": {
    "collapsed": false
   },
   "outputs": [
    {
     "data": {
      "text/html": [
       "<div>\n",
       "<table border=\"1\" class=\"dataframe\">\n",
       "  <thead>\n",
       "    <tr style=\"text-align: right;\">\n",
       "      <th>key</th>\n",
       "      <th>AfterInhMATRIX5</th>\n",
       "      <th>PrescaleMATRIX5</th>\n",
       "      <th>RawMATRIX4</th>\n",
       "      <th>RawTriggers</th>\n",
       "    </tr>\n",
       "    <tr>\n",
       "      <th>eventID</th>\n",
       "      <th></th>\n",
       "      <th></th>\n",
       "      <th></th>\n",
       "      <th></th>\n",
       "    </tr>\n",
       "  </thead>\n",
       "  <tbody>\n",
       "    <tr>\n",
       "      <th>430001</th>\n",
       "      <td>27094</td>\n",
       "      <td>12</td>\n",
       "      <td>1598521</td>\n",
       "      <td>10759045</td>\n",
       "    </tr>\n",
       "    <tr>\n",
       "      <th>430002</th>\n",
       "      <td>34901</td>\n",
       "      <td>14</td>\n",
       "      <td>1670878</td>\n",
       "      <td>11813291</td>\n",
       "    </tr>\n",
       "    <tr>\n",
       "      <th>430003</th>\n",
       "      <td>36317</td>\n",
       "      <td>15</td>\n",
       "      <td>1675869</td>\n",
       "      <td>12002554</td>\n",
       "    </tr>\n",
       "    <tr>\n",
       "      <th>430004</th>\n",
       "      <td>34088</td>\n",
       "      <td>14</td>\n",
       "      <td>1637602</td>\n",
       "      <td>11564482</td>\n",
       "    </tr>\n",
       "    <tr>\n",
       "      <th>430005</th>\n",
       "      <td>27489</td>\n",
       "      <td>12</td>\n",
       "      <td>1587623</td>\n",
       "      <td>10627391</td>\n",
       "    </tr>\n",
       "    <tr>\n",
       "      <th>430006</th>\n",
       "      <td>32611</td>\n",
       "      <td>13</td>\n",
       "      <td>1625900</td>\n",
       "      <td>11321213</td>\n",
       "    </tr>\n",
       "    <tr>\n",
       "      <th>430013</th>\n",
       "      <td>20382</td>\n",
       "      <td>9</td>\n",
       "      <td>1639926</td>\n",
       "      <td>8769456</td>\n",
       "    </tr>\n",
       "    <tr>\n",
       "      <th>430014</th>\n",
       "      <td>23758</td>\n",
       "      <td>9</td>\n",
       "      <td>1651980</td>\n",
       "      <td>9401959</td>\n",
       "    </tr>\n",
       "    <tr>\n",
       "      <th>430015</th>\n",
       "      <td>24693</td>\n",
       "      <td>11</td>\n",
       "      <td>1612326</td>\n",
       "      <td>9518723</td>\n",
       "    </tr>\n",
       "    <tr>\n",
       "      <th>430016</th>\n",
       "      <td>16762</td>\n",
       "      <td>7</td>\n",
       "      <td>906480</td>\n",
       "      <td>6009644</td>\n",
       "    </tr>\n",
       "    <tr>\n",
       "      <th>430017</th>\n",
       "      <td>17730</td>\n",
       "      <td>7</td>\n",
       "      <td>1011788</td>\n",
       "      <td>6460223</td>\n",
       "    </tr>\n",
       "    <tr>\n",
       "      <th>430018</th>\n",
       "      <td>28322</td>\n",
       "      <td>12</td>\n",
       "      <td>1535705</td>\n",
       "      <td>10288666</td>\n",
       "    </tr>\n",
       "    <tr>\n",
       "      <th>430019</th>\n",
       "      <td>30247</td>\n",
       "      <td>12</td>\n",
       "      <td>1651894</td>\n",
       "      <td>11103506</td>\n",
       "    </tr>\n",
       "    <tr>\n",
       "      <th>430026</th>\n",
       "      <td>35260</td>\n",
       "      <td>15</td>\n",
       "      <td>1519402</td>\n",
       "      <td>11437323</td>\n",
       "    </tr>\n",
       "    <tr>\n",
       "      <th>430027</th>\n",
       "      <td>35336</td>\n",
       "      <td>14</td>\n",
       "      <td>1643279</td>\n",
       "      <td>11930577</td>\n",
       "    </tr>\n",
       "    <tr>\n",
       "      <th>430028</th>\n",
       "      <td>23979</td>\n",
       "      <td>10</td>\n",
       "      <td>1530314</td>\n",
       "      <td>9731520</td>\n",
       "    </tr>\n",
       "    <tr>\n",
       "      <th>430029</th>\n",
       "      <td>29566</td>\n",
       "      <td>13</td>\n",
       "      <td>1661413</td>\n",
       "      <td>10808942</td>\n",
       "    </tr>\n",
       "    <tr>\n",
       "      <th>430030</th>\n",
       "      <td>29623</td>\n",
       "      <td>12</td>\n",
       "      <td>1692261</td>\n",
       "      <td>11038836</td>\n",
       "    </tr>\n",
       "    <tr>\n",
       "      <th>430031</th>\n",
       "      <td>27556</td>\n",
       "      <td>11</td>\n",
       "      <td>1599086</td>\n",
       "      <td>10282025</td>\n",
       "    </tr>\n",
       "    <tr>\n",
       "      <th>430039</th>\n",
       "      <td>30138</td>\n",
       "      <td>13</td>\n",
       "      <td>1637681</td>\n",
       "      <td>11146479</td>\n",
       "    </tr>\n",
       "    <tr>\n",
       "      <th>430040</th>\n",
       "      <td>31750</td>\n",
       "      <td>13</td>\n",
       "      <td>1717651</td>\n",
       "      <td>11537781</td>\n",
       "    </tr>\n",
       "    <tr>\n",
       "      <th>430041</th>\n",
       "      <td>31026</td>\n",
       "      <td>13</td>\n",
       "      <td>1689650</td>\n",
       "      <td>11307768</td>\n",
       "    </tr>\n",
       "    <tr>\n",
       "      <th>430042</th>\n",
       "      <td>32485</td>\n",
       "      <td>13</td>\n",
       "      <td>1686568</td>\n",
       "      <td>11523073</td>\n",
       "    </tr>\n",
       "    <tr>\n",
       "      <th>430043</th>\n",
       "      <td>31222</td>\n",
       "      <td>13</td>\n",
       "      <td>1664937</td>\n",
       "      <td>11189133</td>\n",
       "    </tr>\n",
       "    <tr>\n",
       "      <th>430044</th>\n",
       "      <td>30990</td>\n",
       "      <td>13</td>\n",
       "      <td>1665219</td>\n",
       "      <td>11291918</td>\n",
       "    </tr>\n",
       "    <tr>\n",
       "      <th>430045</th>\n",
       "      <td>31957</td>\n",
       "      <td>13</td>\n",
       "      <td>1651731</td>\n",
       "      <td>11636680</td>\n",
       "    </tr>\n",
       "    <tr>\n",
       "      <th>430046</th>\n",
       "      <td>33026</td>\n",
       "      <td>14</td>\n",
       "      <td>1703088</td>\n",
       "      <td>11828744</td>\n",
       "    </tr>\n",
       "    <tr>\n",
       "      <th>430047</th>\n",
       "      <td>28386</td>\n",
       "      <td>12</td>\n",
       "      <td>1612684</td>\n",
       "      <td>10955062</td>\n",
       "    </tr>\n",
       "    <tr>\n",
       "      <th>430048</th>\n",
       "      <td>34403</td>\n",
       "      <td>14</td>\n",
       "      <td>1688729</td>\n",
       "      <td>11743823</td>\n",
       "    </tr>\n",
       "    <tr>\n",
       "      <th>430049</th>\n",
       "      <td>35685</td>\n",
       "      <td>15</td>\n",
       "      <td>1648888</td>\n",
       "      <td>12058037</td>\n",
       "    </tr>\n",
       "  </tbody>\n",
       "</table>\n",
       "</div>"
      ],
      "text/plain": [
       "key      AfterInhMATRIX5  PrescaleMATRIX5  RawMATRIX4  RawTriggers\n",
       "eventID                                                           \n",
       "430001             27094               12     1598521     10759045\n",
       "430002             34901               14     1670878     11813291\n",
       "430003             36317               15     1675869     12002554\n",
       "430004             34088               14     1637602     11564482\n",
       "430005             27489               12     1587623     10627391\n",
       "430006             32611               13     1625900     11321213\n",
       "430013             20382                9     1639926      8769456\n",
       "430014             23758                9     1651980      9401959\n",
       "430015             24693               11     1612326      9518723\n",
       "430016             16762                7      906480      6009644\n",
       "430017             17730                7     1011788      6460223\n",
       "430018             28322               12     1535705     10288666\n",
       "430019             30247               12     1651894     11103506\n",
       "430026             35260               15     1519402     11437323\n",
       "430027             35336               14     1643279     11930577\n",
       "430028             23979               10     1530314      9731520\n",
       "430029             29566               13     1661413     10808942\n",
       "430030             29623               12     1692261     11038836\n",
       "430031             27556               11     1599086     10282025\n",
       "430039             30138               13     1637681     11146479\n",
       "430040             31750               13     1717651     11537781\n",
       "430041             31026               13     1689650     11307768\n",
       "430042             32485               13     1686568     11523073\n",
       "430043             31222               13     1664937     11189133\n",
       "430044             30990               13     1665219     11291918\n",
       "430045             31957               13     1651731     11636680\n",
       "430046             33026               14     1703088     11828744\n",
       "430047             28386               12     1612684     10955062\n",
       "430048             34403               14     1688729     11743823\n",
       "430049             35685               15     1648888     12058037"
      ]
     },
     "execution_count": 67,
     "metadata": {},
     "output_type": "execute_result"
    }
   ],
   "source": [
    "data_df.pivot(index='eventID', columns='key', values='value').head(30)"
   ]
  },
  {
   "cell_type": "code",
   "execution_count": null,
   "metadata": {
    "collapsed": true
   },
   "outputs": [],
   "source": []
  }
 ],
 "metadata": {
  "kernelspec": {
   "display_name": "Python 2",
   "language": "python",
   "name": "python2"
  },
  "language_info": {
   "codemirror_mode": {
    "name": "ipython",
    "version": 2
   },
   "file_extension": ".py",
   "mimetype": "text/x-python",
   "name": "python",
   "nbconvert_exporter": "python",
   "pygments_lexer": "ipython2",
   "version": "2.7.6"
  }
 },
 "nbformat": 4,
 "nbformat_minor": 0
}
